{
  "nbformat": 4,
  "nbformat_minor": 0,
  "metadata": {
    "colab": {
      "name": "Estructuras de control python.ipynb",
      "provenance": [],
      "authorship_tag": "ABX9TyN5nSQZNHHU4YKT2wTeL9Lw",
      "include_colab_link": true
    },
    "kernelspec": {
      "name": "python3",
      "display_name": "Python 3"
    }
  },
  "cells": [
    {
      "cell_type": "markdown",
      "metadata": {
        "id": "view-in-github",
        "colab_type": "text"
      },
      "source": [
        "<a href=\"https://colab.research.google.com/github/PedroProfe/Programacion_Sistemas/blob/main/Estructuras_de_control_python.ipynb\" target=\"_parent\"><img src=\"https://colab.research.google.com/assets/colab-badge.svg\" alt=\"Open In Colab\"/></a>"
      ]
    },
    {
      "cell_type": "code",
      "metadata": {
        "id": "HLWNxHI84QHo"
      },
      "source": [
        "\n",
        "sueldo = -25000.45\n",
        "anio = 2020\n",
        "mes = 10\n",
        "nombreMes = \"Octubre\""
      ],
      "execution_count": 6,
      "outputs": []
    },
    {
      "cell_type": "code",
      "metadata": {
        "id": "jyn9Sndc5A0T",
        "outputId": "cd3f673a-8f1a-4d42-9a79-7df7d99fc585",
        "colab": {
          "base_uri": "https://localhost:8080/"
        }
      },
      "source": [
        "edad = 20\n",
        "edad = edad + 5\n",
        "print(edad)"
      ],
      "execution_count": 7,
      "outputs": [
        {
          "output_type": "stream",
          "text": [
            "25\n"
          ],
          "name": "stdout"
        }
      ]
    },
    {
      "cell_type": "code",
      "metadata": {
        "id": "IT42SzKP5GCZ",
        "outputId": "f755caca-f741-4f76-b790-43d4bf4a3977",
        "colab": {
          "base_uri": "https://localhost:8080/"
        }
      },
      "source": [
        "edad = edad // 3\n",
        "print(edad)"
      ],
      "execution_count": 8,
      "outputs": [
        {
          "output_type": "stream",
          "text": [
            "8.333333333333334\n"
          ],
          "name": "stdout"
        }
      ]
    },
    {
      "cell_type": "code",
      "metadata": {
        "id": "6BvCl3vY5MMp",
        "outputId": "f73f547c-27d2-4741-be4f-ca732a4710a3",
        "colab": {
          "base_uri": "https://localhost:8080/",
          "height": 34
        }
      },
      "source": [
        "cierto = (8 > 3)\n",
        "print(cierto)"
      ],
      "execution_count": null,
      "outputs": [
        {
          "output_type": "stream",
          "text": [
            "True\n"
          ],
          "name": "stdout"
        }
      ]
    },
    {
      "cell_type": "code",
      "metadata": {
        "id": "sa4u4lNI62KY",
        "outputId": "07bbae81-0084-421b-964a-3530f6fc864f",
        "colab": {
          "base_uri": "https://localhost:8080/",
          "height": 34
        }
      },
      "source": [
        "cierto = (8 >= 3)\n",
        "print(cierto)"
      ],
      "execution_count": null,
      "outputs": [
        {
          "output_type": "stream",
          "text": [
            "True\n"
          ],
          "name": "stdout"
        }
      ]
    },
    {
      "cell_type": "code",
      "metadata": {
        "id": "s3342MmA7Dkh",
        "outputId": "4729b58d-f225-4bca-cbb5-3a9125d90040",
        "colab": {
          "base_uri": "https://localhost:8080/",
          "height": 34
        }
      },
      "source": [
        "cierto = (8 < 3)\n",
        "print(cierto)"
      ],
      "execution_count": null,
      "outputs": [
        {
          "output_type": "stream",
          "text": [
            "False\n"
          ],
          "name": "stdout"
        }
      ]
    },
    {
      "cell_type": "code",
      "metadata": {
        "id": "Pk8UnW7s7HoZ",
        "outputId": "1fc9e365-b863-4c6a-c5ef-1ea2d561b7a0",
        "colab": {
          "base_uri": "https://localhost:8080/",
          "height": 34
        }
      },
      "source": [
        "cierto = (8 <= 3)\n",
        "print(cierto)"
      ],
      "execution_count": null,
      "outputs": [
        {
          "output_type": "stream",
          "text": [
            "False\n"
          ],
          "name": "stdout"
        }
      ]
    },
    {
      "cell_type": "code",
      "metadata": {
        "id": "KM1QD8Yg7JyJ",
        "outputId": "22f95859-89e1-4a2d-fc5e-81c61b85c078",
        "colab": {
          "base_uri": "https://localhost:8080/",
          "height": 34
        }
      },
      "source": [
        "cierto = (8 == 8) #es 8 igual a 8\n",
        "print(cierto)"
      ],
      "execution_count": null,
      "outputs": [
        {
          "output_type": "stream",
          "text": [
            "True\n"
          ],
          "name": "stdout"
        }
      ]
    },
    {
      "cell_type": "code",
      "metadata": {
        "id": "i0buhZ7R7PER",
        "outputId": "25750f8e-54ac-43b2-9fd8-39a526275e91",
        "colab": {
          "base_uri": "https://localhost:8080/",
          "height": 34
        }
      },
      "source": [
        "cierto = (8 != 8) #es 8 distinto de 8\n",
        "print(cierto)"
      ],
      "execution_count": null,
      "outputs": [
        {
          "output_type": "stream",
          "text": [
            "False\n"
          ],
          "name": "stdout"
        }
      ]
    },
    {
      "cell_type": "code",
      "metadata": {
        "id": "IiPlrBpb7hZC",
        "outputId": "98953441-30af-4e23-d2ff-5674e3b22f0f",
        "colab": {
          "base_uri": "https://localhost:8080/",
          "height": 34
        }
      },
      "source": [
        "if (8 == 8):\n",
        "  print(\"el valor 8 es igual a 8\")\n",
        "else:\n",
        "  print(\"el valor 8 es distinto de 8\")"
      ],
      "execution_count": null,
      "outputs": [
        {
          "output_type": "stream",
          "text": [
            "el valor 8 es igual a 8\n"
          ],
          "name": "stdout"
        }
      ]
    },
    {
      "cell_type": "code",
      "metadata": {
        "id": "fhjv7nkt73VS",
        "outputId": "4d6dd16b-c7a2-4a66-8bb4-d86f1e3c4c35",
        "colab": {
          "base_uri": "https://localhost:8080/"
        }
      },
      "source": [
        "'''\n",
        "la tabla del or dice que solo es falso cuando los dos sean falsos, en caso contrario\n",
        "será cierto..ejemplo OR\n",
        "F F -> F\n",
        "F T -> T\n",
        "T F -> T\n",
        "T T -> T\n",
        "'''\n",
        "\n",
        "if (8 != 8) or (7 != 7):\n",
        "  print(\"AAAAA\")\n",
        "else:\n",
        "  print(\"BBBB\")"
      ],
      "execution_count": 10,
      "outputs": [
        {
          "output_type": "stream",
          "text": [
            "BBBB\n"
          ],
          "name": "stdout"
        }
      ]
    },
    {
      "cell_type": "code",
      "metadata": {
        "id": "RyIPpDNO9Old",
        "outputId": "8517ba01-f528-4a29-92c8-d08ae3a7035f",
        "colab": {
          "base_uri": "https://localhost:8080/",
          "height": 35
        }
      },
      "source": [
        "'''\n",
        "La tabla del and dice que será cierto solo si ambos son ciertas ejemplo: AND\n",
        "\n",
        "F F -> F\n",
        "F T -> F\n",
        "T F -> F\n",
        "T T -> T\n",
        "'''\n",
        "edad = 20\n",
        "nombre = \"Marta\"\n",
        "\n",
        "if (edad == 20) and (nombre == \"Marta\"):\n",
        "  print(\"la edad es 20 y el nombre es marta\")\n",
        "else:\n",
        "  print(\"la edad no es 20 y/o el nombre no es Marta\")\n"
      ],
      "execution_count": null,
      "outputs": [
        {
          "output_type": "stream",
          "text": [
            "la edad es 20 y el nombre es marta\n"
          ],
          "name": "stdout"
        }
      ]
    },
    {
      "cell_type": "code",
      "metadata": {
        "id": "zelChoKSai0D",
        "outputId": "a26ee786-c4ab-4d9f-ef68-491494e2f816",
        "colab": {
          "base_uri": "https://localhost:8080/",
          "height": 35
        }
      },
      "source": [
        "numero  = 3\n",
        "\n",
        "esPar = ((numero % 2) == 0) #(numero % 2) devuelve el resto de la división y queda lo siguiente ((1)==0)\n",
        "print(esPar)"
      ],
      "execution_count": null,
      "outputs": [
        {
          "output_type": "stream",
          "text": [
            "False\n"
          ],
          "name": "stdout"
        }
      ]
    },
    {
      "cell_type": "code",
      "metadata": {
        "id": "3X95hqDlavzw",
        "outputId": "2213c3c3-87e2-4dc0-8dd6-c8de479ebde0",
        "colab": {
          "base_uri": "https://localhost:8080/",
          "height": 35
        }
      },
      "source": [
        "\n",
        "if ((numero % 2) == 0):\n",
        "  print(\"el número es par\")\n",
        "else:\n",
        "  print(\"número impar\")"
      ],
      "execution_count": null,
      "outputs": [
        {
          "output_type": "stream",
          "text": [
            "número impar\n"
          ],
          "name": "stdout"
        }
      ]
    },
    {
      "cell_type": "code",
      "metadata": {
        "id": "DAnbZlQ4bjmZ",
        "outputId": "fdefdefd-ee8f-40fb-cd97-2da395eec4b8",
        "colab": {
          "base_uri": "https://localhost:8080/",
          "height": 69
        }
      },
      "source": [
        "numero = int(input(\"Introduce un número\"))\n",
        "print(numero)\n",
        "if not((numero % 2)==0):\n",
        "  print(\"El número es impar\")\n",
        "else:\n",
        "  print(\"el número es par\")"
      ],
      "execution_count": null,
      "outputs": [
        {
          "output_type": "stream",
          "text": [
            "Introduce un número2\n",
            "2\n",
            "el número es par\n"
          ],
          "name": "stdout"
        }
      ]
    },
    {
      "cell_type": "code",
      "metadata": {
        "id": "QwxXYoUkcI5h",
        "outputId": "2d51d521-d4cc-4758-fadd-35669e8ee86b",
        "colab": {
          "base_uri": "https://localhost:8080/",
          "height": 52
        }
      },
      "source": [
        "'''\n",
        "Un número es divisible por otro número si al dividirlos el resto da 0\n",
        "\n",
        "Teniendo en cuenta:\n",
        "dado un año \n",
        "\n",
        "p: Es divisible entre 4\n",
        "q: Es divisible entre 100\n",
        "r: Es divisible entre 400\n",
        "\n",
        "y que un año es bisiesto si se cumple (p and (No(q) or r)) --> el año es bisiesto y el mes de febrero tiene 29 días,\n",
        "sino el año no es bisiesto y el mes de febrero tiene 28 días\n",
        "\n",
        "Haced un programa que lea por pantalla el año y diga si ese año el mes de febrero tiene 28 o 29 días\n",
        "'''\n",
        "anio = int(input(\"Introduce el año\"))\n",
        "\n",
        "if (anio % 4 == 0) and (not(anio % 100 == 0) or (anio % 400 == 0)):\n",
        "  print(\"Año introducido es bisiesto y el mes de febrero tiene 29 días\")\n",
        "else:\n",
        "  print(\"Año no bisiesto y el mes de febrero tiene 28 días\")\n",
        "'''\n",
        "sabiendo que enero marzo, mayo, julio, agosto, octubre y diciembre tienen 31 días, \n",
        "que febrero depende del año (si es bisiesto o no) y el resto tienen 30 días. Haced un programa\n",
        "que lea por pantalla el año y el mes y diga el número de días que tiene ese mes.\n",
        "'''\n",
        "\n"
      ],
      "execution_count": null,
      "outputs": [
        {
          "output_type": "stream",
          "text": [
            "Introduce el año5013\n",
            "Año no bisiesto y el mes de febrero tiene 28 días\n"
          ],
          "name": "stdout"
        }
      ]
    },
    {
      "cell_type": "code",
      "metadata": {
        "id": "Z_UvQaRgjywi",
        "outputId": "b35780b1-11cd-46e0-f156-6236e306739d",
        "colab": {
          "base_uri": "https://localhost:8080/"
        }
      },
      "source": [
        "if 1 > 5:\n",
        "  if (1 > 2):\n",
        "    print(\"sdf\")\n",
        "  else:\n",
        "    print(\"24242\")\n",
        "elif 5 > 9:\n",
        "  print(\"aaaaaaaa\")\n",
        "else:\n",
        "  print(\"bbb\")"
      ],
      "execution_count": 11,
      "outputs": [
        {
          "output_type": "stream",
          "text": [
            "bbb\n"
          ],
          "name": "stdout"
        }
      ]
    },
    {
      "cell_type": "code",
      "metadata": {
        "id": "5vS2rlRynvK9"
      },
      "source": [
        "# Leer por pantalla un año y un número de mes y que devuelva el número de días que tiene ese mes de ese año. Sabiendo que:\n",
        "# enero, marzo, mayo, julio, agosto, octubre y diciembre tienen 31, el resto menos febrero tienen 30"
      ],
      "execution_count": null,
      "outputs": []
    }
  ]
}