{
  "nbformat": 4,
  "nbformat_minor": 0,
  "metadata": {
    "colab": {
      "name": "Estructuras de control python.ipynb",
      "provenance": [],
      "collapsed_sections": []
    },
    "kernelspec": {
      "name": "python3",
      "display_name": "Python 3"
    }
  },
  "cells": [
    {
      "cell_type": "code",
      "metadata": {
        "id": "HLWNxHI84QHo",
        "colab": {
          "base_uri": "https://localhost:8080/",
          "height": 131
        },
        "outputId": "f704b21a-c6e8-45a3-c9ab-c35f9fada79f"
      },
      "source": [
        "\n",
        "sueldo = -25000.45\n",
        "anio = 2020\n",
        "mes = 1\n",
        "nombreMes = \"Octubre\""
      ],
      "execution_count": null,
      "outputs": [
        {
          "output_type": "error",
          "ename": "SyntaxError",
          "evalue": "ignored",
          "traceback": [
            "\u001b[0;36m  File \u001b[0;32m\"<ipython-input-1-d718cb0d8b61>\"\u001b[0;36m, line \u001b[0;32m5\u001b[0m\n\u001b[0;31m    pepe int\u001b[0m\n\u001b[0m           ^\u001b[0m\n\u001b[0;31mSyntaxError\u001b[0m\u001b[0;31m:\u001b[0m invalid syntax\n"
          ]
        }
      ]
    },
    {
      "cell_type": "code",
      "metadata": {
        "id": "tkiMNCWi1erT"
      },
      "source": [
        "prueba = 5"
      ],
      "execution_count": null,
      "outputs": []
    },
    {
      "cell_type": "code",
      "metadata": {
        "id": "jyn9Sndc5A0T",
        "colab": {
          "base_uri": "https://localhost:8080/"
        },
        "outputId": "cd3f673a-8f1a-4d42-9a79-7df7d99fc585"
      },
      "source": [
        "edad = 20\n",
        "edad = edad + 5\n",
        "print(edad)"
      ],
      "execution_count": null,
      "outputs": [
        {
          "output_type": "stream",
          "text": [
            "25\n"
          ],
          "name": "stdout"
        }
      ]
    },
    {
      "cell_type": "code",
      "metadata": {
        "id": "IT42SzKP5GCZ",
        "colab": {
          "base_uri": "https://localhost:8080/"
        },
        "outputId": "f755caca-f741-4f76-b790-43d4bf4a3977"
      },
      "source": [
        "edad = edad // 3\n",
        "print(edad)"
      ],
      "execution_count": null,
      "outputs": [
        {
          "output_type": "stream",
          "text": [
            "8.333333333333334\n"
          ],
          "name": "stdout"
        }
      ]
    },
    {
      "cell_type": "code",
      "metadata": {
        "id": "6BvCl3vY5MMp",
        "colab": {
          "base_uri": "https://localhost:8080/",
          "height": 34
        },
        "outputId": "f73f547c-27d2-4741-be4f-ca732a4710a3"
      },
      "source": [
        "cierto = (8 > 3)\n",
        "print(cierto)"
      ],
      "execution_count": null,
      "outputs": [
        {
          "output_type": "stream",
          "text": [
            "True\n"
          ],
          "name": "stdout"
        }
      ]
    },
    {
      "cell_type": "code",
      "metadata": {
        "id": "sa4u4lNI62KY",
        "colab": {
          "base_uri": "https://localhost:8080/",
          "height": 34
        },
        "outputId": "07bbae81-0084-421b-964a-3530f6fc864f"
      },
      "source": [
        "cierto = (8 >= 3)\n",
        "print(cierto)"
      ],
      "execution_count": null,
      "outputs": [
        {
          "output_type": "stream",
          "text": [
            "True\n"
          ],
          "name": "stdout"
        }
      ]
    },
    {
      "cell_type": "code",
      "metadata": {
        "id": "s3342MmA7Dkh",
        "colab": {
          "base_uri": "https://localhost:8080/",
          "height": 34
        },
        "outputId": "4729b58d-f225-4bca-cbb5-3a9125d90040"
      },
      "source": [
        "cierto = (8 < 3)\n",
        "print(cierto)"
      ],
      "execution_count": null,
      "outputs": [
        {
          "output_type": "stream",
          "text": [
            "False\n"
          ],
          "name": "stdout"
        }
      ]
    },
    {
      "cell_type": "code",
      "metadata": {
        "id": "Pk8UnW7s7HoZ",
        "colab": {
          "base_uri": "https://localhost:8080/",
          "height": 34
        },
        "outputId": "1fc9e365-b863-4c6a-c5ef-1ea2d561b7a0"
      },
      "source": [
        "cierto = (8 <= 3)\n",
        "print(cierto)"
      ],
      "execution_count": null,
      "outputs": [
        {
          "output_type": "stream",
          "text": [
            "False\n"
          ],
          "name": "stdout"
        }
      ]
    },
    {
      "cell_type": "code",
      "metadata": {
        "id": "KM1QD8Yg7JyJ",
        "colab": {
          "base_uri": "https://localhost:8080/",
          "height": 34
        },
        "outputId": "22f95859-89e1-4a2d-fc5e-81c61b85c078"
      },
      "source": [
        "cierto = (8 == 8) #es 8 igual a 8\n",
        "print(cierto)"
      ],
      "execution_count": null,
      "outputs": [
        {
          "output_type": "stream",
          "text": [
            "True\n"
          ],
          "name": "stdout"
        }
      ]
    },
    {
      "cell_type": "code",
      "metadata": {
        "id": "i0buhZ7R7PER",
        "colab": {
          "base_uri": "https://localhost:8080/",
          "height": 34
        },
        "outputId": "25750f8e-54ac-43b2-9fd8-39a526275e91"
      },
      "source": [
        "cierto = (8 != 8) #es 8 distinto de 8\n",
        "print(cierto)"
      ],
      "execution_count": null,
      "outputs": [
        {
          "output_type": "stream",
          "text": [
            "False\n"
          ],
          "name": "stdout"
        }
      ]
    },
    {
      "cell_type": "code",
      "metadata": {
        "id": "IiPlrBpb7hZC",
        "colab": {
          "base_uri": "https://localhost:8080/",
          "height": 34
        },
        "outputId": "98953441-30af-4e23-d2ff-5674e3b22f0f"
      },
      "source": [
        "if (8 == 8):\n",
        "  print(\"el valor 8 es igual a 8\")\n",
        "else:\n",
        "  print(\"el valor 8 es distinto de 8\")"
      ],
      "execution_count": null,
      "outputs": [
        {
          "output_type": "stream",
          "text": [
            "el valor 8 es igual a 8\n"
          ],
          "name": "stdout"
        }
      ]
    },
    {
      "cell_type": "code",
      "metadata": {
        "id": "fhjv7nkt73VS",
        "colab": {
          "base_uri": "https://localhost:8080/"
        },
        "outputId": "4d6dd16b-c7a2-4a66-8bb4-d86f1e3c4c35"
      },
      "source": [
        "'''\n",
        "la tabla del or dice que solo es falso cuando los dos sean falsos, en caso contrario\n",
        "será cierto..ejemplo OR\n",
        "F F -> F\n",
        "F T -> T\n",
        "T F -> T\n",
        "T T -> T\n",
        "'''\n",
        "\n",
        "if (8 != 8) or (7 != 7):\n",
        "  print(\"AAAAA\")\n",
        "else:\n",
        "  print(\"BBBB\")"
      ],
      "execution_count": null,
      "outputs": [
        {
          "output_type": "stream",
          "text": [
            "BBBB\n"
          ],
          "name": "stdout"
        }
      ]
    },
    {
      "cell_type": "code",
      "metadata": {
        "id": "RyIPpDNO9Old",
        "colab": {
          "base_uri": "https://localhost:8080/",
          "height": 35
        },
        "outputId": "8517ba01-f528-4a29-92c8-d08ae3a7035f"
      },
      "source": [
        "'''\n",
        "La tabla del and dice que será cierto solo si ambos son ciertas ejemplo: AND\n",
        "\n",
        "F F -> F\n",
        "F T -> F\n",
        "T F -> F\n",
        "T T -> T\n",
        "'''\n",
        "edad = 20\n",
        "nombre = \"Marta\"\n",
        "\n",
        "if (edad == 20) and (nombre == \"Marta\"):\n",
        "  print(\"la edad es 20 y el nombre es marta\")\n",
        "else:\n",
        "  print(\"la edad no es 20 y/o el nombre no es Marta\")\n"
      ],
      "execution_count": null,
      "outputs": [
        {
          "output_type": "stream",
          "text": [
            "la edad es 20 y el nombre es marta\n"
          ],
          "name": "stdout"
        }
      ]
    },
    {
      "cell_type": "code",
      "metadata": {
        "id": "zelChoKSai0D",
        "colab": {
          "base_uri": "https://localhost:8080/",
          "height": 35
        },
        "outputId": "a26ee786-c4ab-4d9f-ef68-491494e2f816"
      },
      "source": [
        "numero  = 3\n",
        "\n",
        "esPar = ((numero % 2) == 0) #(numero % 2) devuelve el resto de la división y queda lo siguiente ((1)==0)\n",
        "print(esPar)"
      ],
      "execution_count": null,
      "outputs": [
        {
          "output_type": "stream",
          "text": [
            "False\n"
          ],
          "name": "stdout"
        }
      ]
    },
    {
      "cell_type": "code",
      "metadata": {
        "id": "3X95hqDlavzw",
        "colab": {
          "base_uri": "https://localhost:8080/",
          "height": 35
        },
        "outputId": "2213c3c3-87e2-4dc0-8dd6-c8de479ebde0"
      },
      "source": [
        "\n",
        "if ((numero % 2) == 0):\n",
        "  print(\"el número es par\")\n",
        "else:\n",
        "  print(\"número impar\")"
      ],
      "execution_count": null,
      "outputs": [
        {
          "output_type": "stream",
          "text": [
            "número impar\n"
          ],
          "name": "stdout"
        }
      ]
    },
    {
      "cell_type": "code",
      "metadata": {
        "id": "DAnbZlQ4bjmZ",
        "colab": {
          "base_uri": "https://localhost:8080/",
          "height": 69
        },
        "outputId": "fdefdefd-ee8f-40fb-cd97-2da395eec4b8"
      },
      "source": [
        "numero = int(input(\"Introduce un número\"))\n",
        "print(numero)\n",
        "if not((numero % 2)==0):\n",
        "  print(\"El número es impar\")\n",
        "else:\n",
        "  print(\"el número es par\")"
      ],
      "execution_count": null,
      "outputs": [
        {
          "output_type": "stream",
          "text": [
            "Introduce un número2\n",
            "2\n",
            "el número es par\n"
          ],
          "name": "stdout"
        }
      ]
    },
    {
      "cell_type": "code",
      "metadata": {
        "id": "QwxXYoUkcI5h",
        "colab": {
          "base_uri": "https://localhost:8080/",
          "height": 52
        },
        "outputId": "2d51d521-d4cc-4758-fadd-35669e8ee86b"
      },
      "source": [
        "'''\n",
        "Un número es divisible por otro número si al dividirlos el resto da 0\n",
        "\n",
        "Teniendo en cuenta:\n",
        "dado un año \n",
        "\n",
        "p: Es divisible entre 4\n",
        "q: Es divisible entre 100\n",
        "r: Es divisible entre 400\n",
        "\n",
        "y que un año es bisiesto si se cumple (p and (No(q) or r)) --> el año es bisiesto y el mes de febrero tiene 29 días,\n",
        "sino el año no es bisiesto y el mes de febrero tiene 28 días\n",
        "\n",
        "Haced un programa que lea por pantalla el año y diga si ese año el mes de febrero tiene 28 o 29 días\n",
        "'''\n",
        "anio = int(input(\"Introduce el año\"))\n",
        "\n",
        "if (anio % 4 == 0) and (not(anio % 100 == 0) or (anio % 400 == 0)):\n",
        "  print(\"Año introducido es bisiesto y el mes de febrero tiene 29 días\")\n",
        "else:\n",
        "  print(\"Año no bisiesto y el mes de febrero tiene 28 días\")\n",
        "'''\n",
        "sabiendo que enero marzo, mayo, julio, agosto, octubre y diciembre tienen 31 días, \n",
        "que febrero depende del año (si es bisiesto o no) y el resto tienen 30 días. Haced un programa\n",
        "que lea por pantalla el año y el mes y diga el número de días que tiene ese mes.\n",
        "'''\n",
        "\n"
      ],
      "execution_count": null,
      "outputs": [
        {
          "output_type": "stream",
          "text": [
            "Introduce el año5013\n",
            "Año no bisiesto y el mes de febrero tiene 28 días\n"
          ],
          "name": "stdout"
        }
      ]
    },
    {
      "cell_type": "code",
      "metadata": {
        "id": "Z_UvQaRgjywi",
        "colab": {
          "base_uri": "https://localhost:8080/"
        },
        "outputId": "b35780b1-11cd-46e0-f156-6236e306739d"
      },
      "source": [
        "if 1 > 5:\n",
        "  if (1 > 2):\n",
        "    print(\"sdf\")\n",
        "  else:\n",
        "    print(\"24242\")\n",
        "elif 5 > 9:\n",
        "  print(\"aaaaaaaa\")\n",
        "else:\n",
        "  print(\"bbb\")"
      ],
      "execution_count": null,
      "outputs": [
        {
          "output_type": "stream",
          "text": [
            "bbb\n"
          ],
          "name": "stdout"
        }
      ]
    },
    {
      "cell_type": "code",
      "metadata": {
        "id": "5vS2rlRynvK9"
      },
      "source": [
        "# Leer por pantalla un año y un número de mes y que devuelva el número de días que tiene ese mes de ese año. Sabiendo que:\n",
        "# enero, marzo, mayo, julio, agosto, octubre y diciembre tienen 31, el resto menos febrero tienen 30"
      ],
      "execution_count": null,
      "outputs": []
    },
    {
      "cell_type": "code",
      "metadata": {
        "id": "Twy1U9FtobQk",
        "colab": {
          "base_uri": "https://localhost:8080/"
        },
        "outputId": "371c0c06-35fd-4b98-d3f9-a866042488ba"
      },
      "source": [
        "anio = int(input(\"Introduce el año: \"))\n",
        "mes = int(input(\"Introduce el mes: \"))\n",
        "\n",
        "if (mes == 1) or (mes == 3) or (mes == 5) or (mes == 7) or (mes == 8) or (mes == 10) or (mes == 12):\n",
        "  print(\"El mes tiene 31 días\")\n",
        "elif (mes == 4) or (mes == 6) or (mes == 9) or (mes == 11):\n",
        "  print(\"El mes introducido tiene 30 días\")\n",
        "elif (mes == 2):\n",
        "  if (anio % 4 == 0) and (not(anio % 100 == 0) or (anio % 400 == 0)):\n",
        "    print(\"El mes tiene 29 días\")\n",
        "  else:\n",
        "    print(\"El mes tiene 28 días\")\n",
        "else:\n",
        "  print(\"mes introducido incorrecto\")\n",
        "\n"
      ],
      "execution_count": null,
      "outputs": [
        {
          "output_type": "stream",
          "text": [
            "Introduce el año: 2020\n",
            "Introduce el mes: 2\n",
            "El mes tiene 29 días\n"
          ],
          "name": "stdout"
        }
      ]
    },
    {
      "cell_type": "code",
      "metadata": {
        "id": "AQArvdkBqpYI",
        "colab": {
          "base_uri": "https://localhost:8080/"
        },
        "outputId": "d740c5db-6106-4c76-b5be-6df0a5fd23b1"
      },
      "source": [
        "contador = 0\n",
        "\n",
        "while (contador < 10):\n",
        "  print(contador)\n",
        "  contador = contador + 1\n",
        "print(\"terminó el bucle\")"
      ],
      "execution_count": null,
      "outputs": [
        {
          "output_type": "stream",
          "text": [
            "0\n",
            "1\n",
            "2\n",
            "3\n",
            "4\n",
            "5\n",
            "6\n",
            "7\n",
            "8\n",
            "9\n",
            "terminó el bucle\n"
          ],
          "name": "stdout"
        }
      ]
    },
    {
      "cell_type": "code",
      "metadata": {
        "id": "drrJo2Pereet",
        "colab": {
          "base_uri": "https://localhost:8080/"
        },
        "outputId": "a1e6d959-d269-4330-e3b1-8b2dff6aa7e1"
      },
      "source": [
        "\n",
        "nota  = float(input(\"Introduce la nota \"))\n",
        "\n",
        "nota2  = float(input(\"Introduce la nota \"))\n",
        "\n",
        "nota3  = float(input(\"Introduce la nota \"))\n",
        "\n",
        "media = (nota + nota2 + nota3)/3\n",
        "print(\"la media de las tres notas es: \", media)"
      ],
      "execution_count": null,
      "outputs": [
        {
          "output_type": "stream",
          "text": [
            "Introduce la nota 4.5\n",
            "Introduce la nota 2.9\n",
            "Introduce la nota 9\n",
            "la media de las tres notas es:  5.466666666666666\n"
          ],
          "name": "stdout"
        }
      ]
    },
    {
      "cell_type": "code",
      "metadata": {
        "id": "W8QeZtgH7LW8",
        "colab": {
          "base_uri": "https://localhost:8080/"
        },
        "outputId": "6fefc155-1fe0-4b34-a587-e1b3d3760a2e"
      },
      "source": [
        "contador = 0\n",
        "media = 0.0\n",
        "while (contador < 3):\n",
        "  nota = float(input(\"Introduce la nota \")) # 4, 6, 8\n",
        "  media = media + nota # 0 + 4 = 4,  4 + 6 = 10, 10 + 8 = 18\n",
        "  contador = contador + 1 # 0 + 1 = 1, 1 + 1 = 2, 2 + 1 = 3\n",
        "print(\"la media de los números introducidos es: \", media/contador)"
      ],
      "execution_count": null,
      "outputs": [
        {
          "output_type": "stream",
          "text": [
            "Introduce la nota 4\n",
            "Introduce la nota 6\n",
            "Introduce la nota 8\n",
            "la media de los números introducidos es:  6.0\n"
          ],
          "name": "stdout"
        }
      ]
    },
    {
      "cell_type": "code",
      "metadata": {
        "id": "QMT090pvgHtS",
        "colab": {
          "base_uri": "https://localhost:8080/"
        },
        "outputId": "408e3df3-f33d-462a-f6b3-164e316d1122"
      },
      "source": [
        "continuar = input(\"Introduzca la palabra 'seguir' si desea continuar \")\n",
        "if continuar == 'seguir':\n",
        "  print(\"El usuario desea continuar\")\n",
        "else:\n",
        "  print(\"El usuario no desea continuar\")"
      ],
      "execution_count": null,
      "outputs": [
        {
          "output_type": "stream",
          "text": [
            "Introduzca la palabra 'seguir' si desea continuarpaso de ti\n",
            "El usuario no desea continuar\n"
          ],
          "name": "stdout"
        }
      ]
    },
    {
      "cell_type": "code",
      "metadata": {
        "id": "IN99JLEOgvp0",
        "colab": {
          "base_uri": "https://localhost:8080/"
        },
        "outputId": "dcfcde86-dffc-4499-9258-ff81414ee310"
      },
      "source": [
        "# Hacer un ejercicio en el que se lean números mientras el usuario escriba la plabra seguir, \n",
        "# y cuando no la escriba mostrar la media de esos números\n",
        "seguir = True\n",
        "media = 0.0 # me va a ir haciendo la suma de los números introducidos\n",
        "contador = 0 # me va a decir cuántos números he introducido \n",
        "while (seguir):\n",
        "  continuar = input(\"Introduzca la palabra 'seguir' si desea continuar \") #voy a escribir 'seguir' tres veces\n",
        "  if continuar == 'seguir':\n",
        "    #pedir un número e ir acumulando la media\n",
        "    nota = float(input(\"Introduce la nota: \"))  #voy a leer en este orden 4, 6 y 8\n",
        "    media = media + nota # 0.0 + 4 --> 4, 4 + 6 --> 10, 10 + 8 --> 18\n",
        "    contador = contador + 1 # 0 + 1 --> 1, 1 + 1 --> 2, 2 + 1 --> 3\n",
        "  else:\n",
        "    seguir = False\n",
        "\n",
        "\n",
        "print(\"la media de los números introducidos es: \", media/contador)\n"
      ],
      "execution_count": null,
      "outputs": [
        {
          "output_type": "stream",
          "text": [
            "Introduzca la palabra 'seguir' si desea continuar seguir\n",
            "Introduce la nota: 4\n",
            "Introduzca la palabra 'seguir' si desea continuar seguir\n",
            "Introduce la nota: 6\n",
            "Introduzca la palabra 'seguir' si desea continuar seguir\n",
            "Introduce la nota: 8\n",
            "Introduzca la palabra 'seguir' si desea continuar parar\n",
            "la media de los números introducidos es:  6.0\n"
          ],
          "name": "stdout"
        }
      ]
    },
    {
      "cell_type": "code",
      "metadata": {
        "id": "BQPHh-YVrGW9",
        "colab": {
          "base_uri": "https://localhost:8080/"
        },
        "outputId": "5a363583-b775-4a75-f73c-a57efc3f15dd"
      },
      "source": [
        "# Hacer un ejercicio que haga la potencia de un número, es decir, leerá por pantalla la base y el exponente y devuelve la potencia\n",
        "\n",
        "# base = 2, exponente = 4 --> 16 ....2*2*2*2\n",
        "\n",
        "base = int(input(\"Introduce la base \")) #2 \n",
        "exponente = int(input(\"Introduce el exponente \")) #base 2 y exponente 4 ....2*2*2*2\n",
        "solucion = 1\n",
        "while (exponente > 0):\n",
        "  solucion  = solucion * base # 1 * 2 = 2 * 2 = 4 * 2 = 8 * 2 = 16\n",
        "  exponente  = exponente - 1 # 4 - 1 = 3 - 1 = 2 - 1 = 1 - 1 = 0\n",
        "print(\"la solución es: \", solucion )\n"
      ],
      "execution_count": null,
      "outputs": [
        {
          "output_type": "stream",
          "text": [
            "Introduce la base 2\n",
            "Introduce el exponente 4\n",
            "la solución es:  16\n"
          ],
          "name": "stdout"
        }
      ]
    },
    {
      "cell_type": "code",
      "metadata": {
        "id": "WvKomGNf_Si-",
        "colab": {
          "base_uri": "https://localhost:8080/"
        },
        "outputId": "36044a20-f962-4b94-cc64-d67e0297cf2e"
      },
      "source": [
        "for i in range(0,4):\n",
        "  print(i)\n"
      ],
      "execution_count": null,
      "outputs": [
        {
          "output_type": "stream",
          "text": [
            "0\n",
            "1\n",
            "2\n",
            "3\n"
          ],
          "name": "stdout"
        }
      ]
    },
    {
      "cell_type": "code",
      "metadata": {
        "id": "fVYhw4K3_uMN",
        "colab": {
          "base_uri": "https://localhost:8080/"
        },
        "outputId": "2cd09a6b-2c51-4480-daa8-e148e1d6e195"
      },
      "source": [
        "base = int(input(\"Introduce la base \")) #2 \n",
        "exponente = int(input(\"Introduce el exponente \")) #base 2 y exponente 4 ....2*2*2*2\n",
        "resul = 1\n",
        "for i in range(0, exponente): # 0, 1, 2, 3, 4\n",
        "  resul = resul*base # 1*2 = 2*2 = 4 * 2 = 8 * 2 = 16\n",
        "  print(resul) # 2, 4, 8, 16\n",
        "  #i = 0, 1, 2, 3, 4\n",
        "\n",
        "print(\"la potencia del número introducido es \", resul)"
      ],
      "execution_count": null,
      "outputs": [
        {
          "output_type": "stream",
          "text": [
            "Introduce la base 2\n",
            "Introduce el exponente 4\n",
            "2\n",
            "4\n",
            "8\n",
            "16\n",
            "la potencia del número introducido es  16\n"
          ],
          "name": "stdout"
        }
      ]
    },
    {
      "cell_type": "code",
      "metadata": {
        "id": "WyJ31I8wBQPF",
        "colab": {
          "base_uri": "https://localhost:8080/"
        },
        "outputId": "1a389fa9-9d87-402d-f1e7-0d5de7feb149"
      },
      "source": [
        "# 0! --> 1\n",
        "# 4! --> 4 * 3 * 2 * 1 = 24\n",
        "\n",
        "# 3! --> 3 * 2 * 1 = 6\n",
        "\n",
        "# 5! --> 5 * 4 * 3 * 2 * 1 = 120\n",
        "numero = int(input(\"Introduce el numero a calcular su factorial \")) # 3 \n",
        "\n",
        "resultado = 1\n",
        "#range(1, 4) hace 1, 2 y 3. Nunca llega al 4\n",
        "for i in range(1, numero + 1): # i = 1,2,3,4\n",
        "  resultado = resultado*i # 1*1 = 1    1*2 = 2,   2*3 = 6,    6*4 = 24\n",
        "  \n",
        "\n",
        "\n",
        "print(\"El resultado del número leído es \", resultado)"
      ],
      "execution_count": null,
      "outputs": [
        {
          "output_type": "stream",
          "text": [
            "Introduce el numero a calcular su factorial 4\n",
            "El resultado del número leído es  24\n"
          ],
          "name": "stdout"
        }
      ]
    },
    {
      "cell_type": "code",
      "metadata": {
        "id": "3zzcQU13rOfP",
        "colab": {
          "base_uri": "https://localhost:8080/"
        },
        "outputId": "42af570b-7f0b-4f92-bf56-9ac1405bc4ff"
      },
      "source": [
        "\n",
        "\n",
        "for i in range(0, 5):\n",
        "  print(i)"
      ],
      "execution_count": null,
      "outputs": [
        {
          "output_type": "stream",
          "text": [
            "0\n",
            "1\n",
            "2\n",
            "3\n",
            "4\n"
          ],
          "name": "stdout"
        }
      ]
    },
    {
      "cell_type": "code",
      "metadata": {
        "id": "Uuf0vrq3tMZt",
        "colab": {
          "base_uri": "https://localhost:8080/"
        },
        "outputId": "92c8e882-67cb-463b-b697-4c8ff2e2b962"
      },
      "source": [
        "tope = 3\n",
        "for i in range(1, tope + 1):\n",
        "  print(i)"
      ],
      "execution_count": null,
      "outputs": [
        {
          "output_type": "stream",
          "text": [
            "1\n",
            "2\n",
            "3\n"
          ],
          "name": "stdout"
        }
      ]
    },
    {
      "cell_type": "code",
      "metadata": {
        "id": "KtTz1zhstRf8",
        "colab": {
          "base_uri": "https://localhost:8080/"
        },
        "outputId": "29a48a73-8b2c-4776-ffad-5d6333953198"
      },
      "source": [
        "num = 7\n",
        "\n",
        "for i  in  range(4, num + 3):\n",
        "  print(i)"
      ],
      "execution_count": null,
      "outputs": [
        {
          "output_type": "stream",
          "text": [
            "4\n",
            "5\n",
            "6\n",
            "7\n",
            "8\n",
            "9\n"
          ],
          "name": "stdout"
        }
      ]
    },
    {
      "cell_type": "code",
      "metadata": {
        "id": "UwxIwymZupv8",
        "colab": {
          "base_uri": "https://localhost:8080/"
        },
        "outputId": "52e57094-8db3-4067-d0d4-a5fe54448208"
      },
      "source": [
        "num = 4\n",
        "\n",
        "for i  in  range(0, num + 3, 2): #en este caso en cada iteración la i se incrementa en 2, i = i + 2\n",
        "  print(i)\n",
        "  # 0, 2, 4, 6"
      ],
      "execution_count": null,
      "outputs": [
        {
          "output_type": "stream",
          "text": [
            "0\n",
            "2\n",
            "4\n",
            "6\n"
          ],
          "name": "stdout"
        }
      ]
    },
    {
      "cell_type": "code",
      "metadata": {
        "id": "WYUueZ7Qu4kD"
      },
      "source": [
        "num = 7\n",
        "\n",
        "for i  in  range(7, num):\n",
        "  print(i)"
      ],
      "execution_count": null,
      "outputs": []
    },
    {
      "cell_type": "code",
      "metadata": {
        "id": "EAadtMkev3t7",
        "colab": {
          "base_uri": "https://localhost:8080/"
        },
        "outputId": "fbad2cae-13af-4aa0-c89a-421c021d6a68"
      },
      "source": [
        "# LEER POR PANTALLA UN NÚMERO N, POR EJEMPLO N = 4\n",
        "# N = 4, DEBE CALCULAR 1 + 1/2 + 1/3 + 1/4\n",
        "# N = 3, RESULTADO = 1  + 1/2 + 1/3 \n",
        "# N = 2, RESULTADO = 1 + 1/2 = 1.5\n",
        "# N = 1, RESULTADO  = 1\n",
        "numero = int(input(\"Introduce el numero \"))\n",
        "r  = 0\n",
        "for i in range(1, numero+1): # si numero es igual a 3, la i va a tomar: 1, 2 y 3\n",
        "  r = r + 1/i  # 0 + 1/1 = 1, -->1 + 1/2 = 1.5 --> 1.5 + 1/3 = 1.83333\n",
        "print(r)"
      ],
      "execution_count": null,
      "outputs": [
        {
          "output_type": "stream",
          "text": [
            "Introduce el numero 3\n",
            "1.8333333333333333\n"
          ],
          "name": "stdout"
        }
      ]
    },
    {
      "cell_type": "code",
      "metadata": {
        "id": "NiImyPvizTRo",
        "colab": {
          "base_uri": "https://localhost:8080/"
        },
        "outputId": "2029ca6d-1082-4a6a-8da2-99052615fbc7"
      },
      "source": [
        "for variable in range(4, 0, -1):\n",
        "  print(variable)"
      ],
      "execution_count": null,
      "outputs": [
        {
          "output_type": "stream",
          "text": [
            "4\n",
            "3\n",
            "2\n",
            "1\n"
          ],
          "name": "stdout"
        }
      ]
    },
    {
      "cell_type": "code",
      "metadata": {
        "id": "l6d4azl9zZ2v"
      },
      "source": [
        "#FUNCIONES\n",
        "def suma(numero1, numero2):\n",
        "  suma = numero1 + numero2\n",
        "  return suma\n",
        "\n",
        "def resta(n1, n2):\n",
        "  resta = n1 - n2\n",
        "  return resta\n",
        "\n",
        "def resta(n1, n2):\n",
        "  mul = n1 * n2\n",
        "  return mul\n",
        "def divi(n1, n2):\n",
        "  d = n1 / n2\n",
        "  return d\n"
      ],
      "execution_count": null,
      "outputs": []
    },
    {
      "cell_type": "code",
      "metadata": {
        "id": "hIsPPJ_560_x",
        "colab": {
          "base_uri": "https://localhost:8080/"
        },
        "outputId": "8b73d3de-7874-4f22-c519-500ca21a1a9d"
      },
      "source": [
        "print(suma(2,4))"
      ],
      "execution_count": null,
      "outputs": [
        {
          "output_type": "stream",
          "text": [
            "6\n"
          ],
          "name": "stdout"
        }
      ]
    },
    {
      "cell_type": "code",
      "metadata": {
        "id": "qTbQA5Ba7YgY",
        "colab": {
          "base_uri": "https://localhost:8080/"
        },
        "outputId": "0ce06a59-da2d-4f34-a616-f3fe4ee9faea"
      },
      "source": [
        "resultado  = suma(3,7)\n",
        "print(resultado)"
      ],
      "execution_count": null,
      "outputs": [
        {
          "output_type": "stream",
          "text": [
            "10\n"
          ],
          "name": "stdout"
        }
      ]
    },
    {
      "cell_type": "code",
      "metadata": {
        "id": "dS6u1p9Q7l0O",
        "colab": {
          "base_uri": "https://localhost:8080/"
        },
        "outputId": "f5f76cd8-17a0-472d-8f48-0cc0cee9ea3b"
      },
      "source": [
        "n1 = int(input(\"Introduce el primer número \"))\n",
        "n2 = int(input(\"Introduce el segundo número \"))\n",
        "\n",
        "print(suma(n1,n2))"
      ],
      "execution_count": null,
      "outputs": [
        {
          "output_type": "stream",
          "text": [
            "Introduce el primer número90\n",
            "Introduce el segundo número123\n",
            "213\n"
          ],
          "name": "stdout"
        }
      ]
    },
    {
      "cell_type": "code",
      "metadata": {
        "id": "09gXwYAGBr4a"
      },
      "source": [
        "def suma(a, b):\n",
        "  return (a + b)\n",
        "\n",
        "def resta (a, b):\n",
        "  return (a - b)\n",
        "\n",
        "def multi (a, b):\n",
        "  return (a * b)\n",
        "\n",
        "def divi (a, b):\n",
        "  return a/b\n",
        "\n",
        "def factorial (n): #si n = 4 --> 4! = 4 * 3 * 2 * 1 = 24, el factorial de 0! = 1\n",
        "  ##\n",
        "  f = 1\n",
        "  while (n != 0):\n",
        "    f = f*n\n",
        "    n = n - 1\n",
        "  return f\n",
        "\n",
        "def precision(n): #suponemos que n= 2\n",
        "  ## n = 3; 1 + 1/2 + 1/3\n",
        "  # n = 4; 1 + 1/2 + 1/3 + 1/4\n",
        "  # n = 1; 1\n",
        "  # n = 0.....no se contempla\n",
        "  resultado = 0.0\n",
        "  if (n > 0):\n",
        "    for i in range(1, n + 1):# i = 1, 2, 3\n",
        "      resultado = resultado  +  1/i #resultado = 0.0 + 1/1 = 1; 1 + 1/2 = 1.5 \n",
        "      # i = i + 1\n",
        "  else:\n",
        "    print(\"Introduzca un número entero mayor que 0\")    \n",
        "  return resultado\n",
        "\n",
        "  "
      ],
      "execution_count": null,
      "outputs": []
    },
    {
      "cell_type": "code",
      "metadata": {
        "id": "I6VVTzk-77QH"
      },
      "source": [
        "# Haced un menú en el que le preguntéis al usuario qué desea hacer y si escribe \"suma\", se le pedirán dos números y hará la suma\n",
        "# si escribe \"resta\" se le pedirán dos números y hará la resta y así con todas las operaciones\n",
        "# se sale del menú cuando el usuario escribe salir, si no seguirá pidiendo operacioens\n",
        "seguir = True\n",
        "while seguir:\n",
        "  palabra = input(\"Introduzca lo que desea hacer: 'suma', 'resta', 'multiplicacion', 'division', 'factorial', 'precision' o 'salir' \")  \n",
        "  if palabra == \"suma\":\n",
        "    n1 = int(input(\"Introduzca el primer sumando \"))\n",
        "    n2 = int(input(\"Introduzca el segundo sumando \"))    \n",
        "    print(\"El resultado de la suma es \", suma(n1,n2))\n",
        "  elif (palabra == \"resta\"):\n",
        "    n1 = int(input(\"Introduzca el primer numero \"))\n",
        "    n2 = int(input(\"Introduzca el segundo numero \"))   \n",
        "    print(\"El resultado de la resta es \", resta(n1,n2))\n",
        "  elif (palabra == \"multiplicacion \"):\n",
        "    n1 = int(input(\"Introduzca el primer numero \"))\n",
        "    n2 = int(input(\"Introduzca el segundo numero \"))\n",
        "    print(\"El resultado de la multiplicacion es \", multi(n1,n2))\n",
        "  elif (palabra == \"division\"):\n",
        "    #modificar el menú, para que en el caso de que el segundo operando sea un 0, se le vuelva a pedir otro número, hasta\n",
        "    #hasta que escriba un número que no sea 0.\n",
        "    n1 = int(input(\"Introduzca el primer numero \"))\n",
        "    n2 = int(input(\"Introduzca el segundo numero \"))\n",
        "    while (n2 == 0):\n",
        "      n2 = int(input(\"Introduzca el segundo numero, pero debe ser distinto de 0. \"))\n",
        "    print(\"El resultado de la division es \", divi(n1,n2))    \n",
        "  elif (palabra == \"factorial\"):\n",
        "    n1 = int(input(\"Introduzca el numero a calcular su factorial \"))\n",
        "    print(\"El factorial del número leído es: \", factorial(n1))\n",
        "  elif (palabra == \"precision\"):\n",
        "    n1 = int(input(\"Introduzca la precisión \"))\n",
        "    print(\"La precisión es: \", precision(n1))\n",
        "  elif (palabra == \"salir\"):\n",
        "    seguir = False\n",
        "    print(\"Programa Terminado saldrá del bucle\")\n",
        "    \n",
        "\n",
        "print(\"Ya ha salido del bucle\")\n"
      ],
      "execution_count": null,
      "outputs": []
    },
    {
      "cell_type": "code",
      "metadata": {
        "id": "oampI1o0_iGc"
      },
      "source": [
        "# Hacer una función que lea por pantalla un número y realice la siguiente función:\n",
        "# para n = 1; 1\n",
        "# para n = 2; 1 + 1/2!\n",
        "# para n = 3; 1 + 1/2! + 1/3!\n",
        "# para n = 4; 1 + 1/2! + 1/3! + 1/4!\n",
        "\n",
        "def precFactorial(n):\n",
        "  r = 1\n",
        "  for i in range(2, n+1): #si n = 3, la i va a tomar los valores: 2 y 3 y nada más\n",
        "    r = r + 1/factorial(i) # 1 + 1/2! = 1.5 + 1/3! = 1.5 +1/(3*2*1) = 1.5 + 0.16666 = 1.666666\n",
        "  return r"
      ],
      "execution_count": null,
      "outputs": []
    },
    {
      "cell_type": "code",
      "metadata": {
        "colab": {
          "base_uri": "https://localhost:8080/"
        },
        "id": "1H5g-XuDAj4O",
        "outputId": "8ccb4c1e-64fd-435f-ab9b-60e1b17490c2"
      },
      "source": [
        "resultado = precFactorial(3)\n",
        "\n",
        "print(resultado)"
      ],
      "execution_count": null,
      "outputs": [
        {
          "output_type": "stream",
          "text": [
            "1.6666666666666667\n"
          ],
          "name": "stdout"
        }
      ]
    },
    {
      "cell_type": "code",
      "metadata": {
        "id": "CxDSsN6yDXjT"
      },
      "source": [
        "#Hacer una funcion en el que se os de una base y un exponente y sin utilizar el operador ** calcule la potencia\n",
        "#osea leeremos un valor y lo elevaremos a otro valor que leamos\n",
        "\n",
        "def potencia(base, exponente):\n",
        "\n",
        "  return base**exponente\n"
      ],
      "execution_count": null,
      "outputs": []
    },
    {
      "cell_type": "code",
      "metadata": {
        "id": "cFo_yCGlArjU"
      },
      "source": [
        "#leer por pantalla dos números x y k. La x debe ser un número entre [0-1]\n",
        "#para un k = 0 --> 1\n",
        "#para un k = 1 --> 1 + x^1/1! = 1 + x\n",
        "#para un k = 2 --> 1 + x + x^2/2!\n",
        "#para un k = 3 --> 1 + x + x^2/2! + x^3/3!\n",
        "#para un k = 4 --> 1 + x + x^2/2! + x^3/3! + x^4/4!\n",
        "def factorial (n): #si n = 4 --> 4! = 4 * 3 * 2 * 1 = 24, el factorial de 0! = 1\n",
        "  ##\n",
        "  f = 1\n",
        "  while (n != 0):\n",
        "    f = f*n\n",
        "    n = n - 1\n",
        "  return f\n",
        "\n",
        "# x = 0.5\n",
        "def tailor(x, k):\n",
        "  resultado = 1 #si k = 0\n",
        "  for i in range(1,k+1):  # i = 1, 2,3\n",
        "    resultado = resultado + x**i/factorial(i) # k = 2; 1 + 0.5**1/1! = 1 + 0.5 = 1.5\n",
        "                                              # k = 2; resultado = 1 + 0.5^1/1! = 1.5\n",
        "                                              # resultado  = 1.5 + 0.5^2/2! = 1.625\n",
        "  return resultado\n",
        "\n",
        "#k = 0 --> 1\n",
        "\n",
        "#k = 1 --> 1 + 0.5 = 1.5\n",
        "#k = 2;  1 + x + x^2/2! = 1 + 0.5 + 0.5^2/2 = 1.5 + 0.125 = 1.625\n",
        "\n",
        "#k = 3; 1 + x + x^2/2! + x^3/3! = 1 + 0.5 + 0.5^2/2 + 0.5^3/6 = 1.625 + 0.020833 = 1.6458333\n"
      ],
      "execution_count": null,
      "outputs": []
    },
    {
      "cell_type": "code",
      "metadata": {
        "id": "5gmqD5_SC0U7",
        "colab": {
          "base_uri": "https://localhost:8080/"
        },
        "outputId": "c726c414-99bd-4755-81d2-ae2392b824e0"
      },
      "source": [
        "print(tailor(0.5, 1))"
      ],
      "execution_count": null,
      "outputs": [
        {
          "output_type": "stream",
          "text": [
            "1.5\n"
          ],
          "name": "stdout"
        }
      ]
    },
    {
      "cell_type": "code",
      "metadata": {
        "colab": {
          "base_uri": "https://localhost:8080/",
          "height": 35
        },
        "id": "uuQF6vSGSP8q",
        "outputId": "5b7f7660-bd32-47bf-c698-d041f2895e23"
      },
      "source": [
        "# 6 // 2 = 3; 3 // 2 = 1; 1 // 2 = 0 \n",
        "# resto = 0; resto = 1; resto = 1\n",
        "#\n",
        "#\n",
        "#\n",
        "#\n",
        "# 011\n",
        "'''\n",
        "Bi      De\n",
        "000 --> 0\n",
        "001 --> 1\n",
        "010 --> 2\n",
        "011 --> 3\n",
        "100 --> 4\n",
        "101 --> 5\n",
        "110 --> 6\n",
        "'''"
      ],
      "execution_count": null,
      "outputs": [
        {
          "output_type": "execute_result",
          "data": {
            "application/vnd.google.colaboratory.intrinsic+json": {
              "type": "string"
            },
            "text/plain": [
              "'\\n000 --> 0\\n001 --> 1\\n010 --> 2\\n011 --> 3\\n100 --> 4\\n101 --> 5\\n110 --> 6\\n'"
            ]
          },
          "metadata": {
            "tags": []
          },
          "execution_count": 16
        }
      ]
    },
    {
      "cell_type": "code",
      "metadata": {
        "colab": {
          "base_uri": "https://localhost:8080/"
        },
        "id": "23-L5DGQZXkl",
        "outputId": "ef782903-dde8-45ad-fc5e-9431409634d9"
      },
      "source": [
        "#2/3 --> división decimal  --> 0.6666\n",
        "#2//3 --> división entera --> 0\n",
        "# 2 % 3 --> resto de la división --> 2\n"
      ],
      "execution_count": null,
      "outputs": [
        {
          "output_type": "stream",
          "text": [
            "2\n"
          ],
          "name": "stdout"
        }
      ]
    },
    {
      "cell_type": "code",
      "metadata": {
        "id": "HbSxAHtxkzkM"
      },
      "source": [
        "def pasarDecimalBinario(numero):  #numero = 6\n",
        "  numeroBinario = \"\" #\n",
        "  while (numero != 0):\n",
        "    resto = numero % 2  # resto = 6 % 2 = 0; 3 % 2 = 1; 1 % 2 = 1\n",
        "    numero = numero // 2 # numero = 6 // 2 = 3; 3 // 2 = 1; 1 // 2 = 0\n",
        "    numeroBinario = str(resto) + numeroBinario  # numeroBinario = \"0\"; \"10\", \"110\"\n",
        "  return numeroBinario # \n"
      ],
      "execution_count": null,
      "outputs": []
    },
    {
      "cell_type": "code",
      "metadata": {
        "id": "ZTKRpPm4ZaGM",
        "colab": {
          "base_uri": "https://localhost:8080/"
        },
        "outputId": "99be132a-08c6-41ac-c783-f8a2868e1938"
      },
      "source": [
        "numeroDecimal = int(input(\"Introduzca el número decimal \"))\n",
        "\n",
        "binario = pasarDecimalBinario(numeroDecimal)\n",
        "print(\"El número leído pasado a binario es: \", binario)"
      ],
      "execution_count": null,
      "outputs": [
        {
          "output_type": "stream",
          "text": [
            "Introduzca el número decimal 6\n",
            "El número leído pasado a binario es:  011\n"
          ],
          "name": "stdout"
        }
      ]
    },
    {
      "cell_type": "code",
      "metadata": {
        "id": "M6IMbgdkmSyy"
      },
      "source": [
        "def queOcurre(numero):  #numero = 4\n",
        "  numeroBinario = \"\" #\n",
        "  while (numero != 0):\n",
        "    numero = numero // 2 # numero = 4 // 2 = 2; 2//2 = 1; 1//2 = 0\n",
        "    resto = numero % 2  # resto =  0, 1, 0   \n",
        "    numeroBinario = str(resto) + numeroBinario  # numeroBinario = \"0\" + \"\" = \"0\"; \"1\" + \"0\" = \"10\"; \"0\" + \"10\" = \"010\"\n",
        "  return numeroBinario # "
      ],
      "execution_count": null,
      "outputs": []
    },
    {
      "cell_type": "code",
      "metadata": {
        "colab": {
          "base_uri": "https://localhost:8080/"
        },
        "id": "26vZQ5KXsSK8",
        "outputId": "2c4c47fc-f349-48ee-99a5-ff989dd55cdf"
      },
      "source": [
        "numeroDecimal = int(input(\"Introduzca el número decimal \"))\n",
        "\n",
        "binario = queOcurre(numeroDecimal)\n",
        "print(\"El número leído pasado a binario es: \", binario)"
      ],
      "execution_count": null,
      "outputs": [
        {
          "output_type": "stream",
          "text": [
            "Introduzca el número decimal 4\n",
            "El número leído pasado a binario es:  010\n"
          ],
          "name": "stdout"
        }
      ]
    },
    {
      "cell_type": "code",
      "metadata": {
        "id": "o9-7phyPsVqU"
      },
      "source": [
        "#¿Qué ocurriría con ese código si introdujeramos por pantalla el número 4?\n",
        "#El número leído pasado a binario es: \"010\""
      ],
      "execution_count": null,
      "outputs": []
    },
    {
      "cell_type": "code",
      "metadata": {
        "colab": {
          "base_uri": "https://localhost:8080/"
        },
        "id": "0bqV1Gm5zpRl",
        "outputId": "b47fdb33-741c-41e9-9b08-984230c30d7b"
      },
      "source": [
        "#Hacer un programa que lea por teclado 5 números que representan notas de clase y calcule su media\n",
        "\n",
        "\n",
        "cont = 0\n",
        "media = 0.0\n",
        "\n",
        "while cont < 5:\n",
        "  nota = int(input(\"Introduzca la nota \")) #si nota = 6, 4, 5, 5, 5\n",
        "  media = media + nota # 0 + 6 = 6; 6 + 4 = 10; 10 + 5 = 15; 15 + 5 = 20; 20 + 5 = 25\n",
        "  cont = cont + 1 # 0 + 1 = 1; 1 + 1 = 2; 3, 4, 5\n",
        "print(media/cont)\n",
        "\n"
      ],
      "execution_count": null,
      "outputs": [
        {
          "output_type": "stream",
          "text": [
            "Introduzca la nota 6\n",
            "Introduzca la nota 4\n",
            "Introduzca la nota 5\n",
            "Introduzca la nota 5\n",
            "Introduzca la nota 5\n",
            "5.0\n"
          ],
          "name": "stdout"
        }
      ]
    },
    {
      "cell_type": "code",
      "metadata": {
        "id": "GGQ7yjfk4lTJ",
        "colab": {
          "base_uri": "https://localhost:8080/"
        },
        "outputId": "4f4a97c8-78fc-4213-e9e6-9457b35fcde8"
      },
      "source": [
        "# Hacer un programa que lea por teclado una serie de números y calcule la media. La secuencia de números\r\n",
        "# terminará cuando se escriba un número negativo.\r\n",
        "media = 0\r\n",
        "cont = 0\r\n",
        "while True:\r\n",
        "    nota = int(input(\"Introduzca la nota \")) # nota = 6, nota = 4, nota = -1\r\n",
        "    if (nota < 0):\r\n",
        "        break\r\n",
        "    media = media  + nota # media = 0 + 6 = 6; 6 + 4 = 10\r\n",
        "    cont = cont + 1 # cont = 0 + 1 = 1; 1 + 1 = 2 \r\n",
        "    \r\n",
        "\r\n",
        "media = media / cont # media = 10/2 = 5\r\n",
        "print(\"la media de las notas leídas es: \", media)\r\n",
        "\r\n"
      ],
      "execution_count": null,
      "outputs": [
        {
          "output_type": "stream",
          "text": [
            "Introduzca la nota 6\n",
            "Introduzca la nota 4\n",
            "Introduzca la nota -1\n",
            "la media de las notas leídas es:  5.0\n"
          ],
          "name": "stdout"
        }
      ]
    },
    {
      "cell_type": "code",
      "metadata": {
        "colab": {
          "base_uri": "https://localhost:8080/"
        },
        "id": "bJOFCi_vu916",
        "outputId": "e8291c0b-e010-4418-dd41-ed9e3aa592b0"
      },
      "source": [
        "\r\n",
        "print(\"Hola\", \"Pepe\")\r\n",
        "print(\"Juan\")"
      ],
      "execution_count": null,
      "outputs": [
        {
          "output_type": "stream",
          "text": [
            "Hola Pepe\n",
            "Juan\n"
          ],
          "name": "stdout"
        }
      ]
    },
    {
      "cell_type": "code",
      "metadata": {
        "colab": {
          "base_uri": "https://localhost:8080/"
        },
        "id": "kOjMs9E3zhvI",
        "outputId": "624bc589-f30c-45c4-bbcb-7b68ca9a4c47"
      },
      "source": [
        "print(\"Hello\",\"World\",end=\"*\")\r\n",
        "print(\"Hello\",\"World\",sep=\"-\")\r\n"
      ],
      "execution_count": null,
      "outputs": [
        {
          "output_type": "stream",
          "text": [
            "Hello World*Hello-World\n"
          ],
          "name": "stdout"
        }
      ]
    },
    {
      "cell_type": "code",
      "metadata": {
        "colab": {
          "base_uri": "https://localhost:8080/"
        },
        "id": "1CVGmk1R1Xs9",
        "outputId": "abe4878e-72e3-41e6-a50a-c583734c7353"
      },
      "source": [
        "print(\"Hola pepe ¿qué tal estás? \", end=\"+\")\r\n",
        "print(\"Estoy bien, no he hecho un salto de línea\")"
      ],
      "execution_count": null,
      "outputs": [
        {
          "output_type": "stream",
          "text": [
            "Hola pepe ¿qué tal estás? +Estoy bien, no he hecho un salto de línea\n"
          ],
          "name": "stdout"
        }
      ]
    },
    {
      "cell_type": "code",
      "metadata": {
        "colab": {
          "base_uri": "https://localhost:8080/"
        },
        "id": "sdtfrrFf12SM",
        "outputId": "bcc3ef14-c43f-4b9d-ae5a-53e32e24b4b2"
      },
      "source": [
        "print(\"palabra1\",\"palabra2\", sep=\"###\")"
      ],
      "execution_count": null,
      "outputs": [
        {
          "output_type": "stream",
          "text": [
            "palabra1###palabra2\n"
          ],
          "name": "stdout"
        }
      ]
    },
    {
      "cell_type": "code",
      "metadata": {
        "colab": {
          "base_uri": "https://localhost:8080/"
        },
        "id": "REHPaX5L2CqV",
        "outputId": "8e05d0c8-8385-468b-f480-094b1571bfb9"
      },
      "source": [
        "print(\"Pepe\", \"Ana\", sep=\"$\", end=\"****\")\r\n",
        "print(\"después de asterisco\")"
      ],
      "execution_count": null,
      "outputs": [
        {
          "output_type": "stream",
          "text": [
            "Pepe$Ana****después de asterisco\n"
          ],
          "name": "stdout"
        }
      ]
    },
    {
      "cell_type": "code",
      "metadata": {
        "colab": {
          "base_uri": "https://localhost:8080/"
        },
        "id": "d2ewlhep2R7E",
        "outputId": "e76e8c34-75f1-41b8-e76f-63b4f197422c"
      },
      "source": [
        "print(\"primera línea \\nsegunda línea\")"
      ],
      "execution_count": null,
      "outputs": [
        {
          "output_type": "stream",
          "text": [
            "primera línea \n",
            "segunda línea\n"
          ],
          "name": "stdout"
        }
      ]
    },
    {
      "cell_type": "code",
      "metadata": {
        "colab": {
          "base_uri": "https://localhost:8080/"
        },
        "id": "ONWzTc7z2b1k",
        "outputId": "78a5c210-c09e-42f5-dcec-f7db6e2a756f"
      },
      "source": [
        "texto = \"esta línea aparecerá en la primera línea \\nesta otra línea aparecerá en la segunda línea\"\r\n",
        "print(texto)"
      ],
      "execution_count": null,
      "outputs": [
        {
          "output_type": "stream",
          "text": [
            "esta línea aparecerá en la primera línea \n",
            "esta otra línea aparecerá en la segunda línea\n"
          ],
          "name": "stdout"
        }
      ]
    },
    {
      "cell_type": "code",
      "metadata": {
        "colab": {
          "base_uri": "https://localhost:8080/"
        },
        "id": "ofCjMPxp2yS8",
        "outputId": "a475349f-e233-470b-9264-89d5241c0ed0"
      },
      "source": [
        "print(\"Pepe dijo a sus amigos 'Hola'\")"
      ],
      "execution_count": null,
      "outputs": [
        {
          "output_type": "stream",
          "text": [
            "Pepe dijo a sus amigos 'Hola'\n"
          ],
          "name": "stdout"
        }
      ]
    },
    {
      "cell_type": "code",
      "metadata": {
        "colab": {
          "base_uri": "https://localhost:8080/"
        },
        "id": "17QeEUmm3Dtc",
        "outputId": "a24018f8-2543-4588-a2a8-af98fa0424c7"
      },
      "source": [
        "print('Pepe dijo a sus amigos \"Hola\"')"
      ],
      "execution_count": null,
      "outputs": [
        {
          "output_type": "stream",
          "text": [
            "Pepe dijo a sus amigos \"Hola\"\n"
          ],
          "name": "stdout"
        }
      ]
    },
    {
      "cell_type": "code",
      "metadata": {
        "colab": {
          "base_uri": "https://localhost:8080/"
        },
        "id": "l_15xR0I3IvU",
        "outputId": "6da71fc6-e8e4-496a-cb84-e2b05bfb3cfe"
      },
      "source": [
        "print(\"Hola\"*4)"
      ],
      "execution_count": null,
      "outputs": [
        {
          "output_type": "stream",
          "text": [
            "HolaHolaHolaHola\n"
          ],
          "name": "stdout"
        }
      ]
    },
    {
      "cell_type": "code",
      "metadata": {
        "colab": {
          "base_uri": "https://localhost:8080/"
        },
        "id": "qgXz52Pe3MFr",
        "outputId": "d7c2adb2-4fd9-4b86-d362-b218ee8bf1de"
      },
      "source": [
        "print(\"Hola\"+\"Hola\")"
      ],
      "execution_count": null,
      "outputs": [
        {
          "output_type": "stream",
          "text": [
            "HolaHola\n"
          ],
          "name": "stdout"
        }
      ]
    },
    {
      "cell_type": "code",
      "metadata": {
        "colab": {
          "base_uri": "https://localhost:8080/"
        },
        "id": "ZIMWWuFV3eBT",
        "outputId": "3287e1d1-369b-43b4-f360-d7383f7b5fd9"
      },
      "source": [
        "print(\"c:\\\\User\\\\fichero.txt\")"
      ],
      "execution_count": null,
      "outputs": [
        {
          "output_type": "stream",
          "text": [
            "c:\\User\\fichero.txt\n"
          ],
          "name": "stdout"
        }
      ]
    },
    {
      "cell_type": "code",
      "metadata": {
        "colab": {
          "base_uri": "https://localhost:8080/"
        },
        "id": "4Ckqaqgq3oGc",
        "outputId": "7f6c704d-30d6-47bd-abed-93ec3e73ed78"
      },
      "source": [
        "print (\"Digo: \\\"hola\\\"\")\r\n"
      ],
      "execution_count": null,
      "outputs": [
        {
          "output_type": "stream",
          "text": [
            "Digo: \"hola\"\n"
          ],
          "name": "stdout"
        }
      ]
    },
    {
      "cell_type": "code",
      "metadata": {
        "colab": {
          "base_uri": "https://localhost:8080/"
        },
        "id": "zzkK6hKM4Z9r",
        "outputId": "71b3b85d-5cee-4afd-d2b4-54701a2f5bd6"
      },
      "source": [
        "milista = [\"Pepe\", 2, 2+4j, 4.6]\r\n",
        "print(\"El número de elementos de la lista es: \",len(milista))\r\n",
        "print(\"La lista tiene esto: \", milista)\r\n",
        "#el primer elemento de milista..\r\n",
        "print(milista[0])\r\n",
        "print(milista[1])\r\n",
        "print(milista[2])\r\n",
        "print(milista[3])\r\n",
        "\r\n",
        "n1 = 4 + 2j\r\n",
        "nr = n1 + milista[2]\r\n",
        "print(nr)\r\n",
        "\r\n",
        "cad1 = \"Hola \"\r\n",
        "cadr = cad1 + milista[0]\r\n",
        "print(cadr)\r\n"
      ],
      "execution_count": null,
      "outputs": [
        {
          "output_type": "stream",
          "text": [
            "El número de elementos de la lista es:  4\n",
            "La lista tiene esto:  ['Pepe', 2, (2+4j), 4.6]\n",
            "Pepe\n",
            "2\n",
            "(2+4j)\n",
            "4.6\n",
            "(6+6j)\n",
            "Hola Pepe\n"
          ],
          "name": "stdout"
        }
      ]
    },
    {
      "cell_type": "code",
      "metadata": {
        "colab": {
          "base_uri": "https://localhost:8080/"
        },
        "id": "UhrDA4xx4sT7",
        "outputId": "573d836d-20e0-44f5-92a4-a9aa24032ddd"
      },
      "source": [
        "print(milista[1])"
      ],
      "execution_count": null,
      "outputs": [
        {
          "output_type": "stream",
          "text": [
            "2\n"
          ],
          "name": "stdout"
        }
      ]
    },
    {
      "cell_type": "code",
      "metadata": {
        "colab": {
          "base_uri": "https://localhost:8080/"
        },
        "id": "9i3IBpAo47qD",
        "outputId": "45f138e8-8279-4283-eea5-5a18f1f7b6c0"
      },
      "source": [
        "print(milista[2])"
      ],
      "execution_count": null,
      "outputs": [
        {
          "output_type": "stream",
          "text": [
            "(2+4j)\n"
          ],
          "name": "stdout"
        }
      ]
    },
    {
      "cell_type": "code",
      "metadata": {
        "id": "2HlZdd2R5AUb"
      },
      "source": [
        "def mostrarTodos(milista):\r\n",
        "  cont = 0\r\n",
        "  while cont < len(milista):#cont = 0, 1 ,2, 3 ,4 < 4?-->NO ENTRA\r\n",
        "    print(milista[cont], end=\" \")\r\n",
        "    cont = cont + 1\r\n",
        "\r\n",
        "  \r\n",
        "  print(\"\\nEl bucle terminó y contador vale :\", cont)\r\n",
        "\r\n"
      ],
      "execution_count": null,
      "outputs": []
    },
    {
      "cell_type": "code",
      "metadata": {
        "colab": {
          "base_uri": "https://localhost:8080/"
        },
        "id": "P6CMuFMW-dZR",
        "outputId": "1dc2028f-93d5-40ab-f692-193907573c32"
      },
      "source": [
        "mostrarTodos(milista)"
      ],
      "execution_count": null,
      "outputs": [
        {
          "output_type": "stream",
          "text": [
            "Pepe 2 (2+4j) 4.6 \n",
            "El bucle terminó y contador vale : 4\n"
          ],
          "name": "stdout"
        }
      ]
    },
    {
      "cell_type": "code",
      "metadata": {
        "id": "h-gKq2pI8pQg"
      },
      "source": [
        "# 1. Hacer lo mismo, pero utilizando un FOR\r\n",
        "# 2. Hacer otro ejercicio, mostrando los elementos pero empezando desde el final hacia el primero con For y/o While"
      ],
      "execution_count": null,
      "outputs": []
    },
    {
      "cell_type": "code",
      "metadata": {
        "id": "zdPhCPIZAZ4-"
      },
      "source": [
        "def mostrarTodosFor(milista):\r\n",
        "  for i in range(0, len(milista)):\r\n",
        "    print(milista[i], end=\" \")   \r\n",
        "   "
      ],
      "execution_count": null,
      "outputs": []
    },
    {
      "cell_type": "code",
      "metadata": {
        "colab": {
          "base_uri": "https://localhost:8080/"
        },
        "id": "awbL2E9BAsqH",
        "outputId": "898bf951-2fe0-4de3-9dcf-f059440148a8"
      },
      "source": [
        "mostrarTodosFor(milista)"
      ],
      "execution_count": null,
      "outputs": [
        {
          "output_type": "stream",
          "text": [
            "Pepe 2 (2+4j) 4.6 "
          ],
          "name": "stdout"
        }
      ]
    },
    {
      "cell_type": "code",
      "metadata": {
        "id": "_IiC_zsTA30X"
      },
      "source": [
        "def mostrarTodosInverso(milista):\r\n",
        "  #len(milista)-->4, however el índice máximo de milista es 3, por lo que cont tiene que valer un valor menor que len(milista)\r\n",
        "  cont = len(milista) - 1 #cont = 3 \r\n",
        "  while cont >= 0:#cont = 3, 2, 1, 0\r\n",
        "    print(milista[cont], end=\" \")\r\n",
        "    cont = cont - 1\r\n",
        "  print(\"\\nBucle terminado. Esto esta ya fuera del while\")"
      ],
      "execution_count": null,
      "outputs": []
    },
    {
      "cell_type": "code",
      "metadata": {
        "colab": {
          "base_uri": "https://localhost:8080/"
        },
        "id": "GsuCMEcTBTQ-",
        "outputId": "2620cc5b-cb84-44ba-8e66-087f7dd3a4e4"
      },
      "source": [
        "mostrarTodosInverso(milista)"
      ],
      "execution_count": null,
      "outputs": [
        {
          "output_type": "stream",
          "text": [
            "4.6 (2+4j) 2 Pepe \n",
            "Bucle terminado. Esto esta ya fuera del while\n"
          ],
          "name": "stdout"
        }
      ]
    },
    {
      "cell_type": "code",
      "metadata": {
        "id": "3TGLUpXkBVu-"
      },
      "source": [
        "def mostrarTodosInversoFor(milista):\r\n",
        "  for i in range(len(milista)-1,-1,-2):#desde i = 3, hasta 0 y descendiendo de uno en uno\r\n",
        "    print(milista[i], end=\" \")\r\n",
        "    "
      ],
      "execution_count": null,
      "outputs": []
    },
    {
      "cell_type": "code",
      "metadata": {
        "colab": {
          "base_uri": "https://localhost:8080/"
        },
        "id": "6GqVykqgCXaO",
        "outputId": "79e9897e-1086-4138-c850-d0ffebdeda95"
      },
      "source": [
        "mostrarTodosInversoFor(milista)\r\n",
        "#Pepe 2 (2+4j) 4.6 "
      ],
      "execution_count": null,
      "outputs": [
        {
          "output_type": "stream",
          "text": [
            "4.6 2 "
          ],
          "name": "stdout"
        }
      ]
    },
    {
      "cell_type": "code",
      "metadata": {
        "id": "E0PMguYVCaxe",
        "colab": {
          "base_uri": "https://localhost:8080/"
        },
        "outputId": "d5c4e343-298f-4a29-d79f-a7a8c591f02a"
      },
      "source": [
        "import numpy as np\r\n",
        "matriz1 = np.array([[9,2,8],[6,8,1],[3,6,6]])\r\n",
        "matriz2 = np.array([[2,1,9],[8,7,7],[1,3,5]])\r\n",
        "matrizR = np.zeros((3,3))\r\n",
        "\r\n",
        "\r\n",
        "matrizR = np.dot(matriz1,matriz2)\r\n",
        "print(matrizR)"
      ],
      "execution_count": null,
      "outputs": [
        {
          "output_type": "stream",
          "text": [
            "[[ 42  47 135]\n",
            " [ 77  65 115]\n",
            " [ 60  63  99]]\n"
          ],
          "name": "stdout"
        }
      ]
    },
    {
      "cell_type": "code",
      "metadata": {
        "id": "zoeQXQJxQuSY"
      },
      "source": [
        "lista2 = [3, 5, 7, 1, 0, -9, 12, 52]\r\n"
      ],
      "execution_count": null,
      "outputs": []
    },
    {
      "cell_type": "code",
      "metadata": {
        "colab": {
          "base_uri": "https://localhost:8080/"
        },
        "id": "0LTGPiUWKq2L",
        "outputId": "fc900c13-a3ac-4672-b68f-c114728fa55d"
      },
      "source": [
        "print(lista2)"
      ],
      "execution_count": null,
      "outputs": [
        {
          "output_type": "stream",
          "text": [
            "[3, 5, 7, 1, 0, -9, 12, 52]\n"
          ],
          "name": "stdout"
        }
      ]
    },
    {
      "cell_type": "code",
      "metadata": {
        "id": "46uBBw5vKsiJ"
      },
      "source": [
        "def mayorMenor(lista2):\r\n",
        "  mayor = lista2[0] #3\r\n",
        "  menor = lista2[0] #3\r\n",
        "  for i in range(0, len(lista2)): # 0, 1, 2, 3, 4, 5, 6, 7\r\n",
        "    if (lista2[i] > mayor):#lista[i]--> 3, 5, 7, 1, 0, -9, 12, 52\r\n",
        "      mayor = lista2[i] # 3, 5, 7, 12, 57\r\n",
        "    if (lista2[i] < menor):\r\n",
        "      menor = lista2[i] # 3, 1, 0, -9\r\n",
        "\r\n",
        "  return mayor,menor\r\n"
      ],
      "execution_count": null,
      "outputs": []
    },
    {
      "cell_type": "code",
      "metadata": {
        "colab": {
          "base_uri": "https://localhost:8080/"
        },
        "id": "Zm5QaUaLLICJ",
        "outputId": "507d7f3e-de88-49de-90fb-c015a6a898c7"
      },
      "source": [
        "\r\n",
        "mayorNumero, menorNumero = mayorMenor(lista2)\r\n",
        "\r\n",
        "print(mayorNumero)\r\n",
        "print(menorNumero)"
      ],
      "execution_count": null,
      "outputs": [
        {
          "output_type": "stream",
          "text": [
            "52\n",
            "-9\n"
          ],
          "name": "stdout"
        }
      ]
    },
    {
      "cell_type": "code",
      "metadata": {
        "id": "Jp70VlhiLfX2"
      },
      "source": [
        "def suma(lista2):\r\n",
        "  sum = 0\r\n",
        "  for i in range(0, len(lista2)):\r\n",
        "    sum = sum + lista2[i]\r\n",
        "\r\n",
        "  return sum"
      ],
      "execution_count": null,
      "outputs": []
    },
    {
      "cell_type": "code",
      "metadata": {
        "colab": {
          "base_uri": "https://localhost:8080/"
        },
        "id": "R72PUSKtVnmH",
        "outputId": "342b83bf-8614-434e-80c0-b3bf20104ee8"
      },
      "source": [
        "print(\"la suma de los valores de la lista es: \", suma(lista2))"
      ],
      "execution_count": null,
      "outputs": [
        {
          "output_type": "stream",
          "text": [
            "la suma de los valores de la lista es:  71\n"
          ],
          "name": "stdout"
        }
      ]
    },
    {
      "cell_type": "code",
      "metadata": {
        "colab": {
          "base_uri": "https://localhost:8080/"
        },
        "id": "X5ca1MlYVt3i",
        "outputId": "e5ed09d0-c0ca-4641-824c-4a162705286a"
      },
      "source": [
        "l = [3, 4]\r\n",
        "l.append(5)\r\n",
        "print(l)\r\n",
        "  "
      ],
      "execution_count": null,
      "outputs": [
        {
          "output_type": "stream",
          "text": [
            "[3, 4, 5]\n"
          ],
          "name": "stdout"
        }
      ]
    },
    {
      "cell_type": "code",
      "metadata": {
        "id": "Kz8xZGbWWEg9"
      },
      "source": [
        "#[3, 5, 7, 1, 0, -9, 12, 52]\r\n",
        "\r\n",
        "def generarListasParesImpares(lista2):\r\n",
        "  lpar = [] # []\r\n",
        "  limpar = [] # []\r\n",
        "  for i in range(0, len(lista2)):\r\n",
        "    if (lista2[i] % 2 == 0):\r\n",
        "      lpar.append(lista2[i]) #aquí voy guardando los números pares\r\n",
        "    else:\r\n",
        "      limpar.append(lista2[i]) #aquí voy guardando los números impares\r\n",
        "  #cuando ya ha terminado el for\r\n",
        "  return lpar,limpar"
      ],
      "execution_count": null,
      "outputs": []
    },
    {
      "cell_type": "code",
      "metadata": {
        "colab": {
          "base_uri": "https://localhost:8080/"
        },
        "id": "2Zd1TOC-WQNZ",
        "outputId": "c6d7d2e4-2db3-4185-eba6-f418d8aec53b"
      },
      "source": [
        "par,impar = generarListasParesImpares(lista2)\r\n",
        "\r\n",
        "print(par)\r\n",
        "print(impar)"
      ],
      "execution_count": null,
      "outputs": [
        {
          "output_type": "stream",
          "text": [
            "[0, 12, 52]\n",
            "[3, 5, 7, 1, -9]\n"
          ],
          "name": "stdout"
        }
      ]
    },
    {
      "cell_type": "code",
      "metadata": {
        "id": "ljw-KBobavNg"
      },
      "source": [
        "#Crear dos funciones una para llenar la lista y otra para mostrar los elementos de la lista\r\n",
        "\r\n",
        "def llenarLista(tama):\r\n",
        "  lista = []\r\n",
        "  seguir = True\r\n",
        "  for i in range(0, tama):#i = 0, 1, 2, 3, 4\r\n",
        "    valor = int(input(\"Introduce el valor \"))\r\n",
        "    lista.append(valor)\r\n",
        "\r\n",
        "  return lista\r\n",
        "\r\n",
        "def mostrarLista(lista):\r\n",
        "  for i in range(0,len(lista)):\r\n",
        "    print(lista[i], end=\" \")\r\n",
        "\r\n"
      ],
      "execution_count": null,
      "outputs": []
    },
    {
      "cell_type": "code",
      "metadata": {
        "colab": {
          "base_uri": "https://localhost:8080/"
        },
        "id": "b4qeh1GuoO_b",
        "outputId": "677a5c11-4c77-4242-ead9-51e60c687e46"
      },
      "source": [
        "tama = int(input(\"Introduce el tamaño de la lista \"))\r\n",
        "\r\n",
        "lista = llenarLista(tama)\r\n",
        "#print(lista)\r\n",
        "mostrarLista(lista)"
      ],
      "execution_count": null,
      "outputs": [
        {
          "output_type": "stream",
          "text": [
            "Introduce el tamaño de la lista 5\n",
            "Introduce el valor -8\n",
            "Introduce el valor 9\n",
            "Introduce el valor 7\n",
            "Introduce el valor 6\n",
            "Introduce el valor -19\n",
            "-8 9 7 6 -19 "
          ],
          "name": "stdout"
        }
      ]
    },
    {
      "cell_type": "code",
      "metadata": {
        "colab": {
          "base_uri": "https://localhost:8080/"
        },
        "id": "jMoaqkqOofJD",
        "outputId": "d7b05a96-e340-40a3-d0b5-5a78c67bcdd0"
      },
      "source": [
        "9\r\n",
        "import random\r\n",
        "lista = []\r\n",
        "aleatorio = random.randint(0,10)\r\n",
        "lista.append(aleatorio)\r\n",
        "print(lista)"
      ],
      "execution_count": null,
      "outputs": [
        {
          "output_type": "stream",
          "text": [
            "[5]\n"
          ],
          "name": "stdout"
        }
      ]
    },
    {
      "cell_type": "code",
      "metadata": {
        "id": "PATrxtLTrdrT"
      },
      "source": [
        "# valor = 4 6 5 3\r\n",
        "def llenarListaSoloConImpares(tama): # 2 \r\n",
        "\r\n",
        "\r\n",
        "  i = 0 \r\n",
        "  while (i < tama): #(0 < 2) (1 < 2) (2 < 2)\r\n",
        "    valor = int(input(\"Introduce valor a la lista \")) # 4 6 5 3\r\n",
        "    if (valor % 2 != 0):\r\n",
        "      lista.append(valor) # [ 5, 3 ]\r\n",
        "      i = i + 1 # 0, 1, 2\r\n",
        "  return lista\r\n",
        "\r\n",
        "def mostrarLista(lista):\r\n",
        "   for i in range(0,len(lista)):\r\n",
        "     print(lista[i], end=\" \")"
      ],
      "execution_count": null,
      "outputs": []
    },
    {
      "cell_type": "code",
      "metadata": {
        "id": "ivsWyA6-wftP",
        "colab": {
          "base_uri": "https://localhost:8080/"
        },
        "outputId": "44a3396d-6df2-4b81-d501-58009f7e7354"
      },
      "source": [
        "tama = int(input(\"Introduce el tamaño de la lista \")) # 2\r\n",
        "\r\n",
        "l = llenarListaSoloConImpares(tama)\r\n",
        "\r\n",
        "mostrarLista(l)"
      ],
      "execution_count": null,
      "outputs": [
        {
          "output_type": "stream",
          "text": [
            "Introduce el tamaño de la lista 2\n",
            "Introduce valor a la lista 4\n",
            "Introduce valor a la lista 6\n",
            "Introduce valor a la lista 5\n",
            "Introduce valor a la lista 3\n",
            "5 3 "
          ],
          "name": "stdout"
        }
      ]
    },
    {
      "cell_type": "code",
      "metadata": {
        "colab": {
          "base_uri": "https://localhost:8080/"
        },
        "id": "vwV8TnUYBB1S",
        "outputId": "a898b0e4-8585-477a-f84a-e84be28fda1f"
      },
      "source": [
        "lista = [2, 4, 5, 3, 1, 4, 1]\r\n",
        "\r\n",
        "print(lista[-1])\r\n",
        "print(lista[-2])\r\n",
        "print(lista[0])\r\n",
        "print(lista[1:5], end=\" \")"
      ],
      "execution_count": null,
      "outputs": [
        {
          "output_type": "stream",
          "text": [
            "1\n",
            "4\n",
            "2\n",
            "[4, 5, 3, 1] "
          ],
          "name": "stdout"
        }
      ]
    },
    {
      "cell_type": "code",
      "metadata": {
        "id": "ScSLSHnzBsvS"
      },
      "source": [
        "#Numeros primos son aquellos números que no se pueden dividir más que por si mismo y por 1.\r\n",
        "\r\n",
        "#6---> 6/2  6/3 -->NO ES PRIMO\r\n",
        "#4--> 4/2\r\n",
        "#7 --> si es primo\r\n",
        "#2 ???-->si\r\n",
        "#3 ??? -->si\r\n",
        "\r\n",
        "#Hacer una función que determine si un número leido por pantalla es primo o no\r\n",
        "\r\n",
        "def esPrimo(numero):\r\n",
        "  primo = True\r\n",
        "\r\n",
        "  for i in range(2, numero):\r\n",
        "    if numero % i == 0:\r\n",
        "      return False\r\n",
        "  \r\n",
        "  return primo\r\n",
        "\r\n",
        "\r\n"
      ],
      "execution_count": null,
      "outputs": []
    },
    {
      "cell_type": "code",
      "metadata": {
        "colab": {
          "base_uri": "https://localhost:8080/"
        },
        "id": "aHI2y8VVDkUC",
        "outputId": "cbb311da-83e2-46c7-c86a-9818635173c3"
      },
      "source": [
        "\r\n",
        "numero = int(input(\"Introduce el número \")) # 2\r\n",
        "\r\n",
        "if esPrimo(numero):\r\n",
        "  print(\"El número introducido es primo\")\r\n",
        "else:\r\n",
        "  print(\"El número introducido no es primo\")"
      ],
      "execution_count": null,
      "outputs": [
        {
          "output_type": "stream",
          "text": [
            "Introduce el número 6\n",
            "El número introducido no es primo\n"
          ],
          "name": "stdout"
        }
      ]
    },
    {
      "cell_type": "code",
      "metadata": {
        "id": "7cacAWWHXy6z"
      },
      "source": [
        "#Hacer un ejercicio que lea por pantalla el tamaño de una lista y llame a una función que llene la lista con números primos leídos por teclado\r\n",
        "\r\n",
        "def llenarListaConPrimos(tama):\r\n",
        "  lista = []\r\n",
        "  cont = 0\r\n",
        "  while cont < tama:\r\n",
        "    num = int(input(\"Introduce el numero \"))\r\n",
        "    if esPrimo(num):\r\n",
        "      lista.append(num)\r\n",
        "      cont = cont + 1\r\n",
        "\r\n",
        "  return lista\r\n",
        "\r\n",
        "def mostrarLista(lista):\r\n",
        "   for i in range(0,len(lista)):\r\n",
        "     print(lista[i], end=\" \")"
      ],
      "execution_count": null,
      "outputs": []
    },
    {
      "cell_type": "code",
      "metadata": {
        "colab": {
          "base_uri": "https://localhost:8080/"
        },
        "id": "sAQ86WnAZswJ",
        "outputId": "95ac2356-2665-4c89-f458-3daa6183cac2"
      },
      "source": [
        "tama = int(input(\"Introduce el tamaño de la lista \")) # \r\n",
        "\r\n",
        "l = llenarListaConPrimos(tama)\r\n",
        "\r\n",
        "mostrarLista(l)\r\n",
        "\r\n"
      ],
      "execution_count": null,
      "outputs": [
        {
          "output_type": "stream",
          "text": [
            "Introduce el tamaño de la lista 2\n",
            "Introduce el numero 2\n",
            "Introduce el numero 4\n",
            "Introduce el numero 8\n",
            "Introduce el numero 9\n",
            "Introduce el numero 5\n",
            "2 5 "
          ],
          "name": "stdout"
        }
      ]
    },
    {
      "cell_type": "code",
      "metadata": {
        "id": "9vA3J2s1cLan",
        "colab": {
          "base_uri": "https://localhost:8080/"
        },
        "outputId": "19aa1f58-34a4-411b-8055-1fde391cdf42"
      },
      "source": [
        "import numpy as np\r\n",
        "\r\n",
        "lista =[-3.3, -7, 55, -2, 6, 100, 2000, -80]\r\n",
        "print(lista[2])\r\n",
        "\r\n",
        "print(np.average(lista))"
      ],
      "execution_count": null,
      "outputs": [
        {
          "output_type": "stream",
          "text": [
            "55\n",
            "258.5875\n"
          ],
          "name": "stdout"
        }
      ]
    },
    {
      "cell_type": "code",
      "metadata": {
        "colab": {
          "base_uri": "https://localhost:8080/"
        },
        "id": "a6bnG0CFnCoG",
        "outputId": "c355e480-7533-4913-9d29-f504656de878"
      },
      "source": [
        "print(lista[-1])"
      ],
      "execution_count": null,
      "outputs": [
        {
          "output_type": "stream",
          "text": [
            "-80\n"
          ],
          "name": "stdout"
        }
      ]
    },
    {
      "cell_type": "code",
      "metadata": {
        "id": "1GG09JXqdpor"
      },
      "source": [
        "def dameMayorMenor(lista):\r\n",
        "  mayor = lista[0]\r\n",
        "  menor = lista[0]\r\n",
        "  media = lista[0]\r\n",
        "  for i in range(1, len(lista)):\r\n",
        "    media = media + lista[i]\r\n",
        "    if lista[i] > mayor:\r\n",
        "      mayor = lista[i]\r\n",
        "    if lista[i] < menor:\r\n",
        "      menor = lista[i]\r\n",
        "  #fuera del for\r\n",
        "  media = media/len(lista)\r\n",
        "\r\n",
        "  return mayor,menor, media\r\n",
        "\r\n"
      ],
      "execution_count": null,
      "outputs": []
    },
    {
      "cell_type": "code",
      "metadata": {
        "colab": {
          "base_uri": "https://localhost:8080/"
        },
        "id": "DlcAtO9GeRjz",
        "outputId": "d3c7d556-7c3e-42d2-ac7d-cf7d86338c5b"
      },
      "source": [
        "may,men, media = dameMayorMenor(lista)\r\n",
        "print(\"El valor mayor es: \", may)\r\n",
        "print(\"El valor menor es: \", men)\r\n",
        "print(\"La media de los valores de la lista es: \", media)"
      ],
      "execution_count": null,
      "outputs": [
        {
          "output_type": "stream",
          "text": [
            "El valor mayor es:  2000\n",
            "El valor menor es:  -80\n",
            "La media de los valores de la lista es:  258.5875\n"
          ],
          "name": "stdout"
        }
      ]
    },
    {
      "cell_type": "code",
      "metadata": {
        "id": "W2WzxqdpenTq"
      },
      "source": [
        "def ordenar(lista):\r\n",
        "\r\n",
        "  return lista\r\n",
        "\r\n",
        "ordenar(lista)\r\n",
        "print(lista)\r\n"
      ],
      "execution_count": null,
      "outputs": []
    },
    {
      "cell_type": "code",
      "metadata": {
        "id": "KWT6B7S7kxmW"
      },
      "source": [
        "\r\n",
        "#Ejercicio sumar dos matrices\r\n",
        "m1 = [[1,2],[3,3],[4,4],[5, 5]]\r\n",
        "\r\n",
        "m2 = [[1,2],[3,3],[1,4],[1, 5]]\r\n",
        "\r\n",
        "matriz3 = [[2.0, 4.1, 6.7],[3.2, 6.1, 9.5]]\r\n",
        "\r\n",
        "# for fila in range(0, len(matriz))\r\n",
        "\r\n",
        "# print(len(matriz)) #esto devuelve el número de filas\r\n",
        "# print(len(matriz[0])) #esto devuelve el número de columnas de la fila 0\r\n",
        "def mostrarMatriz(matriz):\r\n",
        "  for filas in range(0, len(matriz)):\r\n",
        "    for columnas in range(0, len(matriz[0])):\r\n",
        "      print(matriz[filas][columnas], end=\" \")\r\n",
        "    #fuera del for interior, pero dentro del for exterior\r\n",
        "    print(\"\\n\")\r\n",
        "\r\n",
        "\r\n",
        "#print(matriz[-1][-1])"
      ],
      "execution_count": null,
      "outputs": []
    },
    {
      "cell_type": "code",
      "metadata": {
        "colab": {
          "base_uri": "https://localhost:8080/"
        },
        "id": "Og54f4hZAtl7",
        "outputId": "a9be36d5-44ee-4420-88f5-02d865031f75"
      },
      "source": [
        "mostrarMatriz(matriz3)"
      ],
      "execution_count": null,
      "outputs": [
        {
          "output_type": "stream",
          "text": [
            "2.0 4.1 6.7 \n",
            "\n",
            "3.2 6.1 9.5 \n",
            "\n"
          ],
          "name": "stdout"
        }
      ]
    },
    {
      "cell_type": "code",
      "metadata": {
        "id": "uUc5l2YBmatu"
      },
      "source": [
        "def sumarMatrices(m1, m2):\r\n",
        "  for fila in range(0, len(m1)):\r\n",
        "    for columna in range(0, len(m1[0])):\r\n",
        "      m1[fila][columna] = m1[fila][columna] + m2[fila][columna]\r\n",
        "  return m1"
      ],
      "execution_count": null,
      "outputs": []
    },
    {
      "cell_type": "code",
      "metadata": {
        "colab": {
          "base_uri": "https://localhost:8080/"
        },
        "id": "WOTWamT_D5Fz",
        "outputId": "5330d8b6-605b-4871-eec1-41043cb87761"
      },
      "source": [
        "sumarMatrices(m1,m2)\r\n",
        "mostrarMatriz(m1)\r\n"
      ],
      "execution_count": null,
      "outputs": [
        {
          "output_type": "stream",
          "text": [
            "2 4 \n",
            "\n",
            "6 6 \n",
            "\n",
            "5 8 \n",
            "\n",
            "6 10 \n",
            "\n"
          ],
          "name": "stdout"
        }
      ]
    },
    {
      "cell_type": "code",
      "metadata": {
        "id": "ZG6x8AC-EFkY"
      },
      "source": [
        "\r\n",
        "def mostrarMatriz(matriz):\r\n",
        "  for filas in range(0, len(matriz)):\r\n",
        "    for columnas in range(0, len(matriz[0])):\r\n",
        "      print(matriz[filas][columnas], end=\" \")\r\n",
        "    #fuera del for interior, pero dentro del for exterior\r\n",
        "    print(\"\\n\")\r\n",
        "\r\n",
        "\r\n",
        "def crearTablero(mat):  \r\n",
        "  for fila in range(0,8):\r\n",
        "    for columna in range(0,8):\r\n",
        "      if (fila+columna)%2==0:\r\n",
        "        mat[fila][columna] = 1\r\n",
        "      else:\r\n",
        "        mat[fila][columna] = 0\r\n",
        "\r\n",
        "def crearTablero2(mat): #la matriz mat esta todo a 0\r\n",
        "  mat[::,::] = 0\r\n",
        "  mat[0::2, 0::2] = 1 #comenzando en la fila 1 (no la 0) y columna 1 pone todo a 1 y va saltando de 2 en 2\r\n",
        "  mat[1::2, 1::2] = 1"
      ],
      "execution_count": null,
      "outputs": []
    },
    {
      "cell_type": "code",
      "metadata": {
        "colab": {
          "base_uri": "https://localhost:8080/"
        },
        "id": "FHhWuaZVLYx4",
        "outputId": "84dcff2c-d985-4b70-be45-b4f7c2bfb847"
      },
      "source": [
        "import numpy as np\r\n",
        "\r\n",
        "mat = np.zeros((8,8),dtype=int)# crea una matriz de 0s de tamaño 8x8\r\n",
        "mat2 = np.ones((8,8),dtype=int)# crea una matriz de 0s de tamaño 8x8\r\n",
        "\r\n",
        "crearTablero(mat)\r\n",
        "\r\n",
        "mostrarMatriz(mat)\r\n",
        "print(\"\\n\\n\\n\")\r\n",
        "\r\n",
        "crearTablero2(mat2)\r\n",
        "\r\n",
        "mostrarMatriz(mat2)"
      ],
      "execution_count": null,
      "outputs": [
        {
          "output_type": "stream",
          "text": [
            "1 0 1 0 1 0 1 0 \n",
            "\n",
            "0 1 0 1 0 1 0 1 \n",
            "\n",
            "1 0 1 0 1 0 1 0 \n",
            "\n",
            "0 1 0 1 0 1 0 1 \n",
            "\n",
            "1 0 1 0 1 0 1 0 \n",
            "\n",
            "0 1 0 1 0 1 0 1 \n",
            "\n",
            "1 0 1 0 1 0 1 0 \n",
            "\n",
            "0 1 0 1 0 1 0 1 \n",
            "\n",
            "\n",
            "\n",
            "\n",
            "\n",
            "1 0 1 0 1 0 1 0 \n",
            "\n",
            "0 1 0 1 0 1 0 1 \n",
            "\n",
            "1 0 1 0 1 0 1 0 \n",
            "\n",
            "0 1 0 1 0 1 0 1 \n",
            "\n",
            "1 0 1 0 1 0 1 0 \n",
            "\n",
            "0 1 0 1 0 1 0 1 \n",
            "\n",
            "1 0 1 0 1 0 1 0 \n",
            "\n",
            "0 1 0 1 0 1 0 1 \n",
            "\n"
          ],
          "name": "stdout"
        }
      ]
    },
    {
      "cell_type": "code",
      "metadata": {
        "id": "Dg0ke9G3MQux",
        "colab": {
          "base_uri": "https://localhost:8080/"
        },
        "outputId": "7399c740-13de-4a7d-d555-4851ca1f30e6"
      },
      "source": [
        "# REPASO DE LISTAS\r\n",
        "\r\n",
        "numeros = [2, 2, 4, 5, -9]\r\n",
        "print(numeros[3])\r\n",
        "print(numeros[-1])\r\n",
        "print(numeros[:]) # muestra todos\r\n",
        "print(numeros[:2]) # muestra desde el elemento con índice 0, es decir el 2, hasta el elemento con índice 1, osea el 2 tb\r\n",
        "print(numeros[::2]) # muestra los elementos de 2 en 2 empezando en el 0\r\n",
        "print(numeros[1::2]) # muestra los elementos de 2 en 2 empezando en el 1\r\n",
        "print(numeros[::3]) # muestra los elementos de 3 en 3 empezando en el 0"
      ],
      "execution_count": null,
      "outputs": [
        {
          "output_type": "stream",
          "text": [
            "5\n",
            "-9\n",
            "[2, 2, 4, 5, -9]\n",
            "[2, 2]\n",
            "[2, 4, -9]\n",
            "[2, 5]\n",
            "[2, 5]\n"
          ],
          "name": "stdout"
        }
      ]
    },
    {
      "cell_type": "code",
      "metadata": {
        "colab": {
          "base_uri": "https://localhost:8080/"
        },
        "id": "EfKlrEQZpHhJ",
        "outputId": "6497984e-8506-4850-efd4-a6e7e77ce994"
      },
      "source": [
        "numeros += [7,8]\r\n",
        "print(numeros)"
      ],
      "execution_count": null,
      "outputs": [
        {
          "output_type": "stream",
          "text": [
            "[2, 2, 4, 5, -9, 7, 8]\n"
          ],
          "name": "stdout"
        }
      ]
    },
    {
      "cell_type": "code",
      "metadata": {
        "colab": {
          "base_uri": "https://localhost:8080/"
        },
        "id": "pF3_GbxTqPEy",
        "outputId": "0ce197e0-f025-461c-e7fb-312afb4a8813"
      },
      "source": [
        "numeros.append(-4000)\r\n",
        "print(numeros)"
      ],
      "execution_count": null,
      "outputs": [
        {
          "output_type": "stream",
          "text": [
            "[2, 2, 4, 5, -9, 7, 8, -4000]\n"
          ],
          "name": "stdout"
        }
      ]
    },
    {
      "cell_type": "code",
      "metadata": {
        "colab": {
          "base_uri": "https://localhost:8080/"
        },
        "id": "dVj8fIJFqtqo",
        "outputId": "54ce00ed-6ffc-4c70-efa0-96b7d39c5446"
      },
      "source": [
        "print(numeros[4:7]) # Mostramos la lista desde la posición 4 hasta la posición 6, porque al 7 no llega"
      ],
      "execution_count": null,
      "outputs": [
        {
          "output_type": "stream",
          "text": [
            "[-9, 7, 8]\n"
          ],
          "name": "stdout"
        }
      ]
    },
    {
      "cell_type": "code",
      "metadata": {
        "colab": {
          "base_uri": "https://localhost:8080/"
        },
        "id": "BIW9leFCrB1I",
        "outputId": "20475a7e-efc0-4c39-c37d-483e258ec4c5"
      },
      "source": [
        "print(\"la longitud de la lista es: \", len(numeros))"
      ],
      "execution_count": null,
      "outputs": [
        {
          "output_type": "stream",
          "text": [
            "la longitud de la lista es:  8\n"
          ],
          "name": "stdout"
        }
      ]
    },
    {
      "cell_type": "code",
      "metadata": {
        "colab": {
          "base_uri": "https://localhost:8080/"
        },
        "id": "Hci1wmQarQoQ",
        "outputId": "3b2783dc-08ae-42cf-c524-e721be748fa8"
      },
      "source": [
        "a = [1, 2, 3]\r\n",
        "b = [7, 3, 2]\r\n",
        "c = [5, 5, -9000]\r\n",
        "\r\n",
        "lista = [[1, 2, 3], b, c]\r\n",
        "print(lista)"
      ],
      "execution_count": null,
      "outputs": [
        {
          "output_type": "stream",
          "text": [
            "[[1, 2, 3], [7, 3, 2], [5, 5, -9000]]\n"
          ],
          "name": "stdout"
        }
      ]
    },
    {
      "cell_type": "code",
      "metadata": {
        "colab": {
          "base_uri": "https://localhost:8080/"
        },
        "id": "s-YQRiGhre4w",
        "outputId": "528bdb1a-ff58-470d-8ca6-74437ef46968"
      },
      "source": [
        "print(lista[0][0]) # muestra el primer elemento de la primera lista"
      ],
      "execution_count": null,
      "outputs": [
        {
          "output_type": "stream",
          "text": [
            "1\n"
          ],
          "name": "stdout"
        }
      ]
    },
    {
      "cell_type": "code",
      "metadata": {
        "colab": {
          "base_uri": "https://localhost:8080/"
        },
        "id": "bIgq4PgLrl9o",
        "outputId": "89543c14-cc5b-47b2-ef88-d3917ada3f10"
      },
      "source": [
        "print(lista[1]) # mostraría la lista con índice 1"
      ],
      "execution_count": null,
      "outputs": [
        {
          "output_type": "stream",
          "text": [
            "[7, 3, 2]\n"
          ],
          "name": "stdout"
        }
      ]
    },
    {
      "cell_type": "code",
      "metadata": {
        "colab": {
          "base_uri": "https://localhost:8080/"
        },
        "id": "QUCmDhtwr28X",
        "outputId": "e5f09882-23f5-47e3-dd01-d3b51e45e8c6"
      },
      "source": [
        "print(lista[0])"
      ],
      "execution_count": null,
      "outputs": [
        {
          "output_type": "stream",
          "text": [
            "[1, 2, 3]\n"
          ],
          "name": "stdout"
        }
      ]
    },
    {
      "cell_type": "code",
      "metadata": {
        "colab": {
          "base_uri": "https://localhost:8080/"
        },
        "id": "UkYHdAjur8bP",
        "outputId": "63170d9d-b854-4be0-c9de-c0c223c2bd3c"
      },
      "source": [
        "print(lista[-1]) #este es para la última lista"
      ],
      "execution_count": null,
      "outputs": [
        {
          "output_type": "stream",
          "text": [
            "[5, 5, -9000]\n"
          ],
          "name": "stdout"
        }
      ]
    },
    {
      "cell_type": "code",
      "metadata": {
        "colab": {
          "base_uri": "https://localhost:8080/"
        },
        "id": "1kyxcW_msFY_",
        "outputId": "90b77059-c551-469b-db6b-913c9eb59fab"
      },
      "source": [
        "print(lista[-1][-1])"
      ],
      "execution_count": null,
      "outputs": [
        {
          "output_type": "stream",
          "text": [
            "-9000\n"
          ],
          "name": "stdout"
        }
      ]
    },
    {
      "cell_type": "code",
      "metadata": {
        "id": "_6EJ1kDZsOXn",
        "colab": {
          "base_uri": "https://localhost:8080/"
        },
        "outputId": "74d87faf-0cd5-4689-8ff8-fe7878476c36"
      },
      "source": [
        "matriz=[\r\n",
        " [1,1,1,10],\r\n",
        "[2,2,2,2],\r\n",
        "[3,3,3,3],\r\n",
        "[4,4,4,4]\r\n",
        "]\r\n",
        "print(matriz)"
      ],
      "execution_count": null,
      "outputs": [
        {
          "output_type": "stream",
          "text": [
            "[[1, 1, 1, 10], [2, 2, 2, 2], [3, 3, 3, 3], [4, 4, 4, 4]]\n"
          ],
          "name": "stdout"
        }
      ]
    },
    {
      "cell_type": "code",
      "metadata": {
        "colab": {
          "base_uri": "https://localhost:8080/"
        },
        "id": "VFb5DD_sE7jJ",
        "outputId": "2ab3114d-3a1f-40ec-e6e3-0bdfcc830792"
      },
      "source": [
        "matriz[0][-1]=sum(matriz[0][:-1])\r\n",
        "print(matriz)\r\n"
      ],
      "execution_count": null,
      "outputs": [
        {
          "output_type": "stream",
          "text": [
            "[[1, 1, 1, 3], [2, 2, 2, 2], [3, 3, 3, 3], [4, 4, 4, 4]]\n"
          ],
          "name": "stdout"
        }
      ]
    },
    {
      "cell_type": "code",
      "metadata": {
        "colab": {
          "base_uri": "https://localhost:8080/"
        },
        "id": "qR5_hTB5FNNw",
        "outputId": "e502e72c-d76b-4cd0-9736-c714e000f763"
      },
      "source": [
        "lista2 =[2,3,4]\r\n",
        "print(lista2[:-1])"
      ],
      "execution_count": null,
      "outputs": [
        {
          "output_type": "stream",
          "text": [
            "[2, 3]\n"
          ],
          "name": "stdout"
        }
      ]
    },
    {
      "cell_type": "code",
      "metadata": {
        "colab": {
          "base_uri": "https://localhost:8080/"
        },
        "id": "f9mYDvHWFcmQ",
        "outputId": "2c0a968b-9f12-4197-800f-40b5e59a153f"
      },
      "source": [
        "print(sum(lista2[:]))"
      ],
      "execution_count": null,
      "outputs": [
        {
          "output_type": "stream",
          "text": [
            "9\n"
          ],
          "name": "stdout"
        }
      ]
    },
    {
      "cell_type": "code",
      "metadata": {
        "id": "_z1m0YvRFvI_"
      },
      "source": [
        "#Hacer una función que sume todos los valores de la lista de una dimensión pasada como argumento menos el último\r\n",
        "\r\n",
        "\r\n",
        "def sumaTodosLosValoresMenosUltimo(tupla):\r\n",
        "  suma = sum(tupla[:-1])\r\n",
        "  return suma\r\n"
      ],
      "execution_count": null,
      "outputs": []
    },
    {
      "cell_type": "code",
      "metadata": {
        "colab": {
          "base_uri": "https://localhost:8080/"
        },
        "id": "j9vmfRnqGfKX",
        "outputId": "bd5c11ed-376d-4183-e44a-f7f4f4de942a"
      },
      "source": [
        "listaA = [3,4,5,6,6,7, 9]\r\n",
        "listaB = [1, 2, 1, 1, 1]\r\n",
        "\r\n",
        "print(sumaTodosLosValoresMenosUltimo(listaA))\r\n",
        "print(sumaTodosLosValoresMenosUltimo(listaB))"
      ],
      "execution_count": null,
      "outputs": [
        {
          "output_type": "stream",
          "text": [
            "31\n",
            "5\n"
          ],
          "name": "stdout"
        }
      ]
    },
    {
      "cell_type": "code",
      "metadata": {
        "id": "qSY8sA6YILhO"
      },
      "source": [
        "\r\n",
        "matrizA = [[1,1,1,2],[4,4,4,4],[2,2,2,2],[3,3,3,3]]\r\n",
        "matrizB = [[1,1,1,2,1,1,1,1],[4,4,4,4,1,1,1,1],[2,2,2,2,1,1,1,1],[3,3,3,3,1,1,1,1],[1,1,1,2,1,1,1,1],[4,4,4,4,1,1,1,1],[2,2,2,2,1,1,1,1],[3,3,3,3,1,1,1,1]]\r\n",
        "\r\n",
        "def asignaValoraMatriz(m,sumaCuadrante):\r\n",
        "  fila = len(m)//2\r\n",
        "  columna = fila\r\n",
        "  for i in range(fila,len(m)):\r\n",
        "    for j in range(columna, len(m)):\r\n",
        "      m[i][j]=sumaCuadrante\r\n",
        "  return m\r\n",
        "\r\n",
        "def sumaCuadranteInferior(matriz):#SUPONEMOS QUE LA MATRIZ ES CUADRADA\r\n",
        "  fila = len(matriz)//2 #devuelve el número de filas\r\n",
        "  columna = fila\r\n",
        "  sumaCuadrante = 0\r\n",
        "  for i in range(fila,len(matriz),1):# i = 4    \r\n",
        "    sumaCuadrante = sumaCuadrante + sum(matriz[i][columna:(len(matriz))]) # Con esto obtengo la suma del cuadrante para cualquier tamaño de matriz\r\n",
        "  #Una vez terminado el for de arriba\r\n",
        "  matriz = asignaValoraMatriz(matriz, sumaCuadrante)       \r\n",
        "  \r\n",
        "  return matriz"
      ],
      "execution_count": null,
      "outputs": []
    },
    {
      "cell_type": "code",
      "metadata": {
        "colab": {
          "base_uri": "https://localhost:8080/"
        },
        "id": "EKKXN-CbL5Ml",
        "outputId": "92486c8b-6d02-41cd-c8c6-b7a895d11dd6"
      },
      "source": [
        "print(sumaCuadranteInferior(matrizA))\r\n",
        "print(sumaCuadranteInferior(matrizB))"
      ],
      "execution_count": null,
      "outputs": [
        {
          "output_type": "stream",
          "text": [
            "[[1, 1, 1, 2], [4, 4, 4, 4], [2, 2, 10, 10], [3, 3, 10, 10]]\n",
            "[[1, 1, 1, 2, 1, 1, 1, 1], [4, 4, 4, 4, 1, 1, 1, 1], [2, 2, 2, 2, 1, 1, 1, 1], [3, 3, 3, 3, 1, 1, 1, 1], [1, 1, 1, 2, 16, 16, 16, 16], [4, 4, 4, 4, 16, 16, 16, 16], [2, 2, 2, 2, 16, 16, 16, 16], [3, 3, 3, 3, 16, 16, 16, 16]]\n"
          ],
          "name": "stdout"
        }
      ]
    },
    {
      "cell_type": "code",
      "metadata": {
        "colab": {
          "base_uri": "https://localhost:8080/"
        },
        "id": "PJ80CuOpWSR-",
        "outputId": "96b47a56-c96d-4f0e-d952-01984a7161cc"
      },
      "source": [
        "for i in range(0,4):\r\n",
        "  print(\"valor de i: \", i)\r\n",
        "  for j in range(0,4):\r\n",
        "    print(\"valor de j \", j)"
      ],
      "execution_count": null,
      "outputs": [
        {
          "output_type": "stream",
          "text": [
            "valor de i:  0\n",
            "valor de j  0\n",
            "valor de j  1\n",
            "valor de j  2\n",
            "valor de j  3\n",
            "valor de i:  1\n",
            "valor de j  0\n",
            "valor de j  1\n",
            "valor de j  2\n",
            "valor de j  3\n",
            "valor de i:  2\n",
            "valor de j  0\n",
            "valor de j  1\n",
            "valor de j  2\n",
            "valor de j  3\n",
            "valor de i:  3\n",
            "valor de j  0\n",
            "valor de j  1\n",
            "valor de j  2\n",
            "valor de j  3\n"
          ],
          "name": "stdout"
        }
      ]
    },
    {
      "cell_type": "code",
      "metadata": {
        "id": "Dv1vUsDAW9dv",
        "colab": {
          "base_uri": "https://localhost:8080/"
        },
        "outputId": "cbdaac66-26d6-44cd-ebc7-37074965badf"
      },
      "source": [
        "# Listas, Tuplas y Diccionario\r\n",
        "\r\n",
        "#las listas son conjuntos de elementos dinamicos. Las tuplas son conjuntos de elementos estáticos...\r\n",
        "\r\n",
        "lista = [2, 4, 5, (4 + 6j)]\r\n",
        "print(lista)"
      ],
      "execution_count": null,
      "outputs": [
        {
          "output_type": "stream",
          "text": [
            "[2, 4, 5, (4+6j)]\n"
          ],
          "name": "stdout"
        }
      ]
    },
    {
      "cell_type": "code",
      "metadata": {
        "colab": {
          "base_uri": "https://localhost:8080/"
        },
        "id": "bq2B6atFGt0h",
        "outputId": "21377439-9606-4823-dcbf-53cb0240d9fe"
      },
      "source": [
        "lista[3] = 9.7\r\n",
        "lista[1] = \"Hola\"\r\n",
        "lista.append(\"qué tal Pepe?\")\r\n",
        "lista.append(4)\r\n",
        "print(lista)"
      ],
      "execution_count": null,
      "outputs": [
        {
          "output_type": "stream",
          "text": [
            "[2, 'Hola', 5, 9.7, 'qué tal Pepe?', 4]\n"
          ],
          "name": "stdout"
        }
      ]
    },
    {
      "cell_type": "code",
      "metadata": {
        "colab": {
          "base_uri": "https://localhost:8080/"
        },
        "id": "nfsxUvO7G49Q",
        "outputId": "2a0ccdaa-0183-4c0c-cadc-ba6ef8df9459"
      },
      "source": [
        "#Una tupla es fija..y se declaran con paréntesis en lugar de corchetes como ocurría con las listas\r\n",
        "# LAS TUPLAS Y LOS DICCIONARIOS NO ENTRAN EN LA SEGUNDA EVALUACIÓN, SÍ ENTRAN LAS LISTAS......\r\n",
        "tupla = (3,5,8,9)\r\n",
        "print(tupla[2])\r\n",
        "print(tupla[3])\r\n",
        "\r\n",
        "\r\n"
      ],
      "execution_count": 4,
      "outputs": [
        {
          "output_type": "stream",
          "text": [
            "8\n",
            "9\n"
          ],
          "name": "stdout"
        }
      ]
    },
    {
      "cell_type": "code",
      "metadata": {
        "id": "lDxp3c_RHg6W"
      },
      "source": [
        "#  tupla[2] = 99 esto no se puede hacer con las tuplas\r\n",
        "#  tupla.append(7) no funciona en las tuplas"
      ],
      "execution_count": null,
      "outputs": []
    },
    {
      "cell_type": "code",
      "metadata": {
        "colab": {
          "base_uri": "https://localhost:8080/"
        },
        "id": "3vq39_lOHnL_",
        "outputId": "566fc363-1c73-40de-fdf1-3936e0c6aa03"
      },
      "source": [
        "lista2 = [[2,3,4]]\r\n",
        "print(lista2[0][:])\r\n",
        "print(lista2[:])"
      ],
      "execution_count": null,
      "outputs": [
        {
          "output_type": "stream",
          "text": [
            "[2, 3, 4]\n",
            "[[2, 3, 4]]\n"
          ],
          "name": "stdout"
        }
      ]
    },
    {
      "cell_type": "code",
      "metadata": {
        "colab": {
          "base_uri": "https://localhost:8080/"
        },
        "id": "2YttqjqaIcRQ",
        "outputId": "5ab9f6a7-3681-4e0b-ac5f-76e28fddf7ce"
      },
      "source": [
        "lista3 = [5, 6, \"Hola\"]\r\n",
        "lista3[1] = 7\r\n",
        "print(lista3)"
      ],
      "execution_count": null,
      "outputs": [
        {
          "output_type": "stream",
          "text": [
            "[5, 7, 'Hola']\n"
          ],
          "name": "stdout"
        }
      ]
    },
    {
      "cell_type": "code",
      "metadata": {
        "colab": {
          "base_uri": "https://localhost:8080/"
        },
        "id": "3hB3IzlUJMZe",
        "outputId": "c34c2e32-40c8-4b63-bdba-08a3880fc792"
      },
      "source": [
        "lista4 = [('a','A'),('b','B'),('c','C')]\r\n",
        "\r\n",
        "print(lista4[0])\r\n",
        "print(lista4[1])\r\n",
        "print(lista4)\r\n"
      ],
      "execution_count": null,
      "outputs": [
        {
          "output_type": "stream",
          "text": [
            "('a', 'A')\n",
            "('b', 'B')\n",
            "[('a', 'A'), ('b', 'B'), ('c', 'C')]\n"
          ],
          "name": "stdout"
        }
      ]
    },
    {
      "cell_type": "code",
      "metadata": {
        "colab": {
          "base_uri": "https://localhost:8080/"
        },
        "id": "F94vBVFzJmEs",
        "outputId": "0bf86a31-9f72-42bf-cb63-67fa6c66cc9d"
      },
      "source": [
        "lista4[0] = 2\r\n",
        "print(lista4)"
      ],
      "execution_count": null,
      "outputs": [
        {
          "output_type": "stream",
          "text": [
            "[2, ('b', 'B'), ('c', 'C')]\n"
          ],
          "name": "stdout"
        }
      ]
    },
    {
      "cell_type": "code",
      "metadata": {
        "colab": {
          "base_uri": "https://localhost:8080/"
        },
        "id": "o3KOM5HVKGEd",
        "outputId": "8e25e3d0-a4a1-4b30-fc1e-9435dc0bea43"
      },
      "source": [
        "lista4[0]=('h','H')\r\n",
        "print(lista4)"
      ],
      "execution_count": null,
      "outputs": [
        {
          "output_type": "stream",
          "text": [
            "[('h', 'H'), ('b', 'B'), ('c', 'C')]\n"
          ],
          "name": "stdout"
        }
      ]
    },
    {
      "cell_type": "code",
      "metadata": {
        "colab": {
          "base_uri": "https://localhost:8080/"
        },
        "id": "VyZU5e9YKN-8",
        "outputId": "a18f11c8-6eb0-405a-ea94-fb3d4687d7b0"
      },
      "source": [
        "tupla2 = (3, 8.3, 5+4j, \"Hola\")\r\n",
        "print(tupla2)"
      ],
      "execution_count": null,
      "outputs": [
        {
          "output_type": "stream",
          "text": [
            "(3, 8.3, (5+4j), 'Hola')\n"
          ],
          "name": "stdout"
        }
      ]
    },
    {
      "cell_type": "code",
      "metadata": {
        "id": "KA9Z0b9FK0qU"
      },
      "source": [
        "#tuplas2[0]=\"adiso\" esto no se puede hacer"
      ],
      "execution_count": null,
      "outputs": []
    },
    {
      "cell_type": "code",
      "metadata": {
        "id": "OSbVlIQfK5rU"
      },
      "source": [
        "\r\n",
        "diccionario = {'nombre' : 'Juan', 'apellidos' : 'López', 'edad' : '26'}"
      ],
      "execution_count": null,
      "outputs": []
    },
    {
      "cell_type": "code",
      "metadata": {
        "colab": {
          "base_uri": "https://localhost:8080/"
        },
        "id": "AaRr5X7_LS8D",
        "outputId": "be0a77b9-a3d9-4253-8a33-3cb780eaefc2"
      },
      "source": [
        "print(diccionario.keys())\r\n",
        "print(diccionario.values())\r\n",
        "\r\n",
        "print(diccionario.get('edad'))\r\n"
      ],
      "execution_count": null,
      "outputs": [
        {
          "output_type": "stream",
          "text": [
            "dict_keys(['nombre', 'apellidos', 'edad'])\n",
            "dict_values(['Juan', 'López', '26'])\n",
            "26\n"
          ],
          "name": "stdout"
        }
      ]
    },
    {
      "cell_type": "code",
      "metadata": {
        "colab": {
          "base_uri": "https://localhost:8080/"
        },
        "id": "xOURYb7UMNLC",
        "outputId": "4f24405a-f9b7-4986-e040-e42d6bf7187b"
      },
      "source": [
        "\r\n",
        "for k in diccionario.keys():\r\n",
        "  print(\"Clave: \", k, end=\" \")\r\n",
        "  print(\"Valor: \", diccionario.get(k))\r\n"
      ],
      "execution_count": null,
      "outputs": [
        {
          "output_type": "stream",
          "text": [
            "Clave:  nombre Valor:  Juan\n",
            "Clave:  apellidos Valor:  López\n",
            "Clave:  edad Valor:  26\n"
          ],
          "name": "stdout"
        }
      ]
    },
    {
      "cell_type": "code",
      "metadata": {
        "colab": {
          "base_uri": "https://localhost:8080/"
        },
        "id": "Z6xjbmcRMqTh",
        "outputId": "4f91e494-502a-4bd9-8f56-ab9a0e9033f9"
      },
      "source": [
        "# Seguimos con lo que entra en la segunda evaluación\r\n",
        "\r\n",
        "cadena = \"HOLAPEPE\"\r\n",
        "print(cadena[0:8:2])\r\n",
        "print(cadena[::2])\r\n",
        "print(cadena[-1])\r\n",
        "print(cadena[-2])\r\n",
        "print(cadena[::-1])\r\n"
      ],
      "execution_count": null,
      "outputs": [
        {
          "output_type": "stream",
          "text": [
            "HLPP\n",
            "HLPP\n",
            "E\n",
            "P\n",
            "EPEPALOH\n"
          ],
          "name": "stdout"
        }
      ]
    },
    {
      "cell_type": "code",
      "metadata": {
        "colab": {
          "base_uri": "https://localhost:8080/"
        },
        "id": "R5rv1cjbON3C",
        "outputId": "60f02767-f36b-4ef7-a38e-a69d78db9496"
      },
      "source": [
        "seguir = True\r\n",
        "\r\n",
        "seguir = (8<2) or (5>3)\r\n",
        "print(seguir)"
      ],
      "execution_count": null,
      "outputs": [
        {
          "output_type": "stream",
          "text": [
            "True\n"
          ],
          "name": "stdout"
        }
      ]
    },
    {
      "cell_type": "code",
      "metadata": {
        "colab": {
          "base_uri": "https://localhost:8080/"
        },
        "id": "fCqxC6kjRoHE",
        "outputId": "f0950f8d-8f46-49b7-c524-af5d85f3ce1a"
      },
      "source": [
        "print(4%3)\r\n",
        "print(4/3)\r\n",
        "print(4//3)"
      ],
      "execution_count": null,
      "outputs": [
        {
          "output_type": "stream",
          "text": [
            "1\n",
            "1.3333333333333333\n",
            "1\n"
          ],
          "name": "stdout"
        }
      ]
    },
    {
      "cell_type": "code",
      "metadata": {
        "colab": {
          "base_uri": "https://localhost:8080/"
        },
        "id": "HyivRmGhSAl0",
        "outputId": "7d3ccc0a-a662-4153-b479-65d6d6f83b19"
      },
      "source": [
        "print(4**2)"
      ],
      "execution_count": null,
      "outputs": [
        {
          "output_type": "stream",
          "text": [
            "16\n"
          ],
          "name": "stdout"
        }
      ]
    },
    {
      "cell_type": "code",
      "metadata": {
        "colab": {
          "base_uri": "https://localhost:8080/"
        },
        "id": "AZmoUFvaSNTk",
        "outputId": "e1dc889c-4344-4bde-9a8f-e91f3138f0ec"
      },
      "source": [
        "valor = 6\r\n",
        "\r\n",
        "valor = valor + 2 #valor = 8\r\n",
        "valor += 2 # valor = 8 + 2\r\n",
        "print(valor)\r\n"
      ],
      "execution_count": null,
      "outputs": [
        {
          "output_type": "stream",
          "text": [
            "10\n"
          ],
          "name": "stdout"
        }
      ]
    },
    {
      "cell_type": "code",
      "metadata": {
        "colab": {
          "base_uri": "https://localhost:8080/"
        },
        "id": "n-97zE0GSj0j",
        "outputId": "a2d2a546-ba7c-4b0e-ba49-3316b5f320c7"
      },
      "source": [
        "vari = 8\r\n",
        "vari = vari - 2\r\n",
        "vari -= 2\r\n",
        "\r\n",
        "print(vari)"
      ],
      "execution_count": null,
      "outputs": [
        {
          "output_type": "stream",
          "text": [
            "4\n"
          ],
          "name": "stdout"
        }
      ]
    },
    {
      "cell_type": "code",
      "metadata": {
        "colab": {
          "base_uri": "https://localhost:8080/"
        },
        "id": "rp9uw9GeTAjb",
        "outputId": "fea2fe65-e6f9-413e-ee8e-8863d718d1b0"
      },
      "source": [
        "var = 4\r\n",
        "var = var * 2\r\n",
        "var *= 2\r\n",
        "\r\n",
        "print(var)"
      ],
      "execution_count": null,
      "outputs": [
        {
          "output_type": "stream",
          "text": [
            "16\n"
          ],
          "name": "stdout"
        }
      ]
    },
    {
      "cell_type": "code",
      "metadata": {
        "colab": {
          "base_uri": "https://localhost:8080/"
        },
        "id": "b3lAR8DZTKQD",
        "outputId": "911d60db-a1c9-48a3-f64b-5828371991ed"
      },
      "source": [
        "v = 4\r\n",
        "\r\n",
        "v = v / 2\r\n",
        "v /= 2\r\n",
        "\r\n",
        "print(v)\r\n"
      ],
      "execution_count": null,
      "outputs": [
        {
          "output_type": "stream",
          "text": [
            "1.0\n"
          ],
          "name": "stdout"
        }
      ]
    },
    {
      "cell_type": "code",
      "metadata": {
        "colab": {
          "base_uri": "https://localhost:8080/"
        },
        "id": "qazMtlEUTRiC",
        "outputId": "471f7021-344c-4e62-ed18-081f4aaf0f61"
      },
      "source": [
        "\r\n",
        "valor = 4 == 4\r\n",
        "\r\n",
        "print(valor)"
      ],
      "execution_count": null,
      "outputs": [
        {
          "output_type": "stream",
          "text": [
            "True\n"
          ],
          "name": "stdout"
        }
      ]
    },
    {
      "cell_type": "code",
      "metadata": {
        "colab": {
          "base_uri": "https://localhost:8080/"
        },
        "id": "1xlCFAYrTj0a",
        "outputId": "8485b116-2e4a-4d2e-b4c5-3f04162ad955"
      },
      "source": [
        "print('x' >= 'x')"
      ],
      "execution_count": null,
      "outputs": [
        {
          "output_type": "stream",
          "text": [
            "True\n"
          ],
          "name": "stdout"
        }
      ]
    },
    {
      "cell_type": "code",
      "metadata": {
        "colab": {
          "base_uri": "https://localhost:8080/"
        },
        "id": "WHpqvOhJTxOS",
        "outputId": "0a77d244-42a8-408f-d983-59ac7f6b35ba"
      },
      "source": [
        "x = 8\r\n",
        "y = 2\r\n",
        "\r\n",
        "print(x <= y)"
      ],
      "execution_count": null,
      "outputs": [
        {
          "output_type": "stream",
          "text": [
            "False\n"
          ],
          "name": "stdout"
        }
      ]
    },
    {
      "cell_type": "code",
      "metadata": {
        "colab": {
          "base_uri": "https://localhost:8080/"
        },
        "id": "jr0M4bOoT_uh",
        "outputId": "2d0f0c06-0a34-4058-8c90-44f493e94006"
      },
      "source": [
        "valor = 4 & 3\r\n",
        "\r\n",
        "print(valor)\r\n"
      ],
      "execution_count": null,
      "outputs": [
        {
          "output_type": "stream",
          "text": [
            "0\n"
          ],
          "name": "stdout"
        }
      ]
    },
    {
      "cell_type": "code",
      "metadata": {
        "colab": {
          "base_uri": "https://localhost:8080/"
        },
        "id": "67C6m3hxUz75",
        "outputId": "9fc6118d-4307-4d5a-d561-92290f9d3959"
      },
      "source": [
        "valor =  4 | 3\r\n",
        "\r\n",
        "print(valor)"
      ],
      "execution_count": null,
      "outputs": [
        {
          "output_type": "stream",
          "text": [
            "7\n"
          ],
          "name": "stdout"
        }
      ]
    },
    {
      "cell_type": "code",
      "metadata": {
        "colab": {
          "base_uri": "https://localhost:8080/"
        },
        "id": "ouUBgAtYVJfo",
        "outputId": "d680aee2-41e0-469e-df7e-5b3f9fcce172"
      },
      "source": [
        "valor = ~4\r\n",
        "\r\n",
        "print(valor)"
      ],
      "execution_count": null,
      "outputs": [
        {
          "output_type": "stream",
          "text": [
            "-5\n"
          ],
          "name": "stdout"
        }
      ]
    },
    {
      "cell_type": "code",
      "metadata": {
        "colab": {
          "base_uri": "https://localhost:8080/"
        },
        "id": "ovtuN7sEVlNP",
        "outputId": "e2f18ba9-4264-425b-b7ea-7d485f62afc5"
      },
      "source": [
        "valor = 4 ^ 5\r\n",
        "\r\n",
        "print(valor)"
      ],
      "execution_count": null,
      "outputs": [
        {
          "output_type": "stream",
          "text": [
            "1\n"
          ],
          "name": "stdout"
        }
      ]
    },
    {
      "cell_type": "code",
      "metadata": {
        "colab": {
          "base_uri": "https://localhost:8080/"
        },
        "id": "Cmnomt6eW7hf",
        "outputId": "072871d3-80e7-4440-ec6e-1994045f6143"
      },
      "source": [
        "valor = 4 >> 2\r\n",
        "print(valor)"
      ],
      "execution_count": null,
      "outputs": [
        {
          "output_type": "stream",
          "text": [
            "1\n"
          ],
          "name": "stdout"
        }
      ]
    },
    {
      "cell_type": "code",
      "metadata": {
        "colab": {
          "base_uri": "https://localhost:8080/"
        },
        "id": "lWqZrI-RXN9m",
        "outputId": "ac0d042d-ccf5-4724-a934-01f52b9c244c"
      },
      "source": [
        "Val2r = 2\r\n",
        "_3valor = 7\r\n",
        "\r\n",
        "valor = 9\r\n",
        "VALOR = 8\r\n",
        "\r\n",
        "print(valor)\r\n",
        "print(VALOR)\r\n",
        "\r\n",
        "VALOR = valor + 3\r\n",
        "print(VALOR)"
      ],
      "execution_count": null,
      "outputs": [
        {
          "output_type": "stream",
          "text": [
            "9\n",
            "8\n",
            "12\n"
          ],
          "name": "stdout"
        }
      ]
    },
    {
      "cell_type": "code",
      "metadata": {
        "colab": {
          "base_uri": "https://localhost:8080/"
        },
        "id": "z3no2VvJXv5V",
        "outputId": "9a512a16-2d94-424a-aec7-f46aefe71a6e"
      },
      "source": [
        "A = 2\r\n",
        "B = 3\r\n",
        "\r\n",
        "print((A**2) + (B**3))\r\n",
        "C = ((A**2) + (B**3))**.5\r\n",
        "print(C)\r\n",
        "\r\n"
      ],
      "execution_count": null,
      "outputs": [
        {
          "output_type": "stream",
          "text": [
            "31\n",
            "5.5677643628300215\n"
          ],
          "name": "stdout"
        }
      ]
    },
    {
      "cell_type": "code",
      "metadata": {
        "colab": {
          "base_uri": "https://localhost:8080/"
        },
        "id": "LegI-zAfYqfd",
        "outputId": "658d983b-6fe9-46ae-f9f1-4034b24b8778"
      },
      "source": [
        "import numpy as np\r\n",
        "print(2**2)\r\n",
        "print(2**(1/2))\r\n",
        "print(2**(0.5))\r\n",
        "print(2**.5)\r\n",
        "print(np.sqrt(2))"
      ],
      "execution_count": null,
      "outputs": [
        {
          "output_type": "stream",
          "text": [
            "4\n",
            "1.4142135623730951\n",
            "1.4142135623730951\n",
            "1.4142135623730951\n",
            "1.4142135623730951\n"
          ],
          "name": "stdout"
        }
      ]
    },
    {
      "cell_type": "code",
      "metadata": {
        "colab": {
          "base_uri": "https://localhost:8080/"
        },
        "id": "fiE0nYp6Y4Ok",
        "outputId": "6eb4a332-b95d-404e-a0d6-ecb2f777de86"
      },
      "source": [
        "valor = 4\r\n",
        "print(vars())"
      ],
      "execution_count": null,
      "outputs": [
        {
          "output_type": "stream",
          "text": [
            "{'__name__': '__main__', '__doc__': 'Automatically created module for IPython interactive environment', '__package__': None, '__loader__': None, '__spec__': None, '__builtin__': <module 'builtins' (built-in)>, '__builtins__': <module 'builtins' (built-in)>, '_ih': ['', 'print(vars())', 'valor = 4\\nprint(vars())'], '_oh': {}, '_dh': ['/content'], '_sh': <module 'IPython.core.shadowns' from '/usr/local/lib/python3.6/dist-packages/IPython/core/shadowns.py'>, 'In': ['', 'print(vars())', 'valor = 4\\nprint(vars())'], 'Out': {}, 'get_ipython': <bound method InteractiveShell.get_ipython of <google.colab._shell.Shell object at 0x7f66ee087a20>>, 'exit': <IPython.core.autocall.ZMQExitAutocall object at 0x7f66ed60ff60>, 'quit': <IPython.core.autocall.ZMQExitAutocall object at 0x7f66ed60ff60>, '_': '', '__': '', '___': '', '_i': 'print(vars())', '_ii': '', '_iii': '', '_i1': 'print(vars())', '_i2': 'valor = 4\\nprint(vars())', 'valor': 4}\n"
          ],
          "name": "stdout"
        }
      ]
    },
    {
      "cell_type": "code",
      "metadata": {
        "colab": {
          "base_uri": "https://localhost:8080/"
        },
        "id": "w7kuiExpZvBE",
        "outputId": "5f2e5b99-c5e1-402f-9c37-f4c88f9fe428"
      },
      "source": [
        "edad = int(input(\"escribe tu edad \"))"
      ],
      "execution_count": null,
      "outputs": [
        {
          "output_type": "stream",
          "text": [
            "escribe tu edad 23\n"
          ],
          "name": "stdout"
        }
      ]
    },
    {
      "cell_type": "code",
      "metadata": {
        "colab": {
          "base_uri": "https://localhost:8080/"
        },
        "id": "J1gRnlFGaKPb",
        "outputId": "d28b729a-a534-48e3-f338-77a8212e6e70"
      },
      "source": [
        "edad = edad + 2\r\n",
        "print(edad)"
      ],
      "execution_count": null,
      "outputs": [
        {
          "output_type": "stream",
          "text": [
            "25\n"
          ],
          "name": "stdout"
        }
      ]
    },
    {
      "cell_type": "code",
      "metadata": {
        "colab": {
          "base_uri": "https://localhost:8080/"
        },
        "id": "otFoo7gGaO7z",
        "outputId": "15f9b8fc-35d5-46f6-9c48-c8ee2f8e42ae"
      },
      "source": [
        "PI = 3.141516\r\n",
        "PI = PI + 2\r\n",
        "print(PI)"
      ],
      "execution_count": null,
      "outputs": [
        {
          "output_type": "stream",
          "text": [
            "5.141516\n"
          ],
          "name": "stdout"
        }
      ]
    },
    {
      "cell_type": "code",
      "metadata": {
        "colab": {
          "base_uri": "https://localhost:8080/"
        },
        "id": "unTqfIbxa0rK",
        "outputId": "906bc729-f2cf-404f-9a9e-9c0a69cfd9be"
      },
      "source": [
        "import keyword as k\r\n",
        "\r\n",
        "print(k.kwlist)\r\n",
        "\r\n",
        "valor = False\r\n",
        "v = 9"
      ],
      "execution_count": null,
      "outputs": [
        {
          "output_type": "stream",
          "text": [
            "['False', 'None', 'True', 'and', 'as', 'assert', 'break', 'class', 'continue', 'def', 'del', 'elif', 'else', 'except', 'finally', 'for', 'from', 'global', 'if', 'import', 'in', 'is', 'lambda', 'nonlocal', 'not', 'or', 'pass', 'raise', 'return', 'try', 'while', 'with', 'yield']\n"
          ],
          "name": "stdout"
        }
      ]
    },
    {
      "cell_type": "code",
      "metadata": {
        "id": "KXRTY8dUbKAB"
      },
      "source": [
        ""
      ],
      "execution_count": null,
      "outputs": []
    }
  ]
}